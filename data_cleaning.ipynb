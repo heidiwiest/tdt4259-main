{
 "cells": [
  {
   "cell_type": "markdown",
   "metadata": {},
   "source": [
    "### I want to determine feature importance in relation to price, in order to do this I first need to ensure that all features are correctly encoded and that NaN values have been taken care of."
   ]
  },
  {
   "cell_type": "code",
   "execution_count": 2,
   "metadata": {},
   "outputs": [],
   "source": [
    "import pandas as pd\n",
    "import gzip\n",
    "import matplotlib.pyplot as plt\n",
    "import seaborn as sns\n",
    "from tabulate import tabulate"
   ]
  },
  {
   "cell_type": "code",
   "execution_count": 84,
   "metadata": {},
   "outputs": [],
   "source": [
    "#Listings, including full descriptions and average review score\n",
    "#Reviews, including unique id for each reviewer and detailed comments\n",
    "#Calendar, including listing id and the price and availability for that day"
   ]
  },
  {
   "cell_type": "code",
   "execution_count": 85,
   "metadata": {},
   "outputs": [],
   "source": [
    "names = ['calendar', 'listings', 'reviews']\n",
    "dataframes = {}\n",
    "\n",
    "for name in names:\n",
    "    # Define the file path\n",
    "    file_path = 'data/' + name + '.csv.gz'\n",
    "    # Use gzip.open to decompress the file and then read it with Pandas\n",
    "    with gzip.open(file_path, 'rt', encoding='utf-8') as file:\n",
    "        data = pd.read_csv(file)\n",
    "\n",
    "    dataframes[name] = data"
   ]
  },
  {
   "cell_type": "code",
   "execution_count": 86,
   "metadata": {},
   "outputs": [],
   "source": [
    "listings = dataframes['listings']"
   ]
  },
  {
   "cell_type": "markdown",
   "metadata": {},
   "source": [
    "## Features som burde fjernes\n",
    "\n",
    "#### listing_url, scrape_id, last_scraped, source, host_url, host_name, host_thumbnail_url, host_picture_url, license (noen steder må man ha lisens, kunder ser ikke dette), calender_last_scraped, calendar_updated (kun NaN), name, picture_url,\n",
    "\n"
   ]
  },
  {
   "cell_type": "code",
   "execution_count": 87,
   "metadata": {},
   "outputs": [],
   "source": [
    "listings = listings.drop(columns=['listing_url', 'scrape_id', 'last_scraped', 'source', 'host_url', \n",
    "    'host_name', 'host_thumbnail_url', 'host_picture_url', 'license', 'calendar_last_scraped', \n",
    "    'calendar_updated', 'name', 'picture_url'])"
   ]
  },
  {
   "cell_type": "markdown",
   "metadata": {},
   "source": [
    "## Features som krever tekstsøk \n",
    "#### description, neighborhood_overview, host_about\n",
    "\n",
    "\n"
   ]
  },
  {
   "cell_type": "code",
   "execution_count": 88,
   "metadata": {},
   "outputs": [],
   "source": [
    "listings = listings.drop(columns=[\"description\", \"neighborhood_overview\", \"host_about\"])"
   ]
  },
  {
   "cell_type": "markdown",
   "metadata": {},
   "source": [
    "#### Lagrer listings_revised slik at man kan bruke den raskt i andre notebooks"
   ]
  },
  {
   "cell_type": "code",
   "execution_count": 89,
   "metadata": {},
   "outputs": [],
   "source": [
    "listings.to_csv(\"listings_revised.csv\", index=False)"
   ]
  },
  {
   "cell_type": "markdown",
   "metadata": {},
   "source": [
    "## Features som burde fjernes pga mange NaN values:\n",
    "#### Neighbourhood (kan erstattes av clustering med lat/lon), bathrooms (NaN imputation muligheter med bathroom text), bedrooms (NaN imputation muligheter?)"
   ]
  },
  {
   "cell_type": "code",
   "execution_count": 90,
   "metadata": {},
   "outputs": [],
   "source": [
    "listings = listings.drop(columns=[\"neighbourhood\", \"bathrooms\", \"bedrooms\"])"
   ]
  },
  {
   "cell_type": "markdown",
   "metadata": {},
   "source": [
    "### Fjerner alle max, min nights features utenom max_nights og min_nights. Ikke strengt talt ubrukelige features, men vil utvilsomt ha høy korrelasjon med max_nights og min_nights, og usikker på hvor mye ekstra forklaringsevne de tilfører problemet. \n",
    "\n",
    "### Beholder max og min nights ntm (next twelve months), fordi dette blir noe litt annet, tror dette er lengste og korteste planlagte/booket opphold neste tolv månedene."
   ]
  },
  {
   "cell_type": "code",
   "execution_count": 91,
   "metadata": {},
   "outputs": [],
   "source": [
    "listings = listings.drop(columns=[\"minimum_minimum_nights\", \"maximum_minimum_nights\", \n",
    "        \"minimum_maximum_nights\", \"maximum_maximum_nights\"])"
   ]
  },
  {
   "cell_type": "code",
   "execution_count": 58,
   "metadata": {},
   "outputs": [
    {
     "data": {
      "text/plain": [
       "Index(['id', 'host_id', 'host_since', 'host_location', 'host_response_time',\n",
       "       'host_response_rate', 'host_acceptance_rate', 'host_is_superhost',\n",
       "       'host_neighbourhood', 'host_listings_count',\n",
       "       'host_total_listings_count', 'host_verifications',\n",
       "       'host_has_profile_pic', 'host_identity_verified',\n",
       "       'neighbourhood_cleansed', 'neighbourhood_group_cleansed', 'latitude',\n",
       "       'longitude', 'property_type', 'room_type', 'accommodates',\n",
       "       'bathrooms_text', 'beds', 'amenities', 'price', 'minimum_nights',\n",
       "       'maximum_nights', 'minimum_nights_avg_ntm', 'maximum_nights_avg_ntm',\n",
       "       'has_availability', 'availability_30', 'availability_60',\n",
       "       'availability_90', 'availability_365', 'number_of_reviews',\n",
       "       'number_of_reviews_ltm', 'number_of_reviews_l30d', 'first_review',\n",
       "       'last_review', 'review_scores_rating', 'review_scores_accuracy',\n",
       "       'review_scores_cleanliness', 'review_scores_checkin',\n",
       "       'review_scores_communication', 'review_scores_location',\n",
       "       'review_scores_value', 'instant_bookable',\n",
       "       'calculated_host_listings_count',\n",
       "       'calculated_host_listings_count_entire_homes',\n",
       "       'calculated_host_listings_count_private_rooms',\n",
       "       'calculated_host_listings_count_shared_rooms', 'reviews_per_month'],\n",
       "      dtype='object')"
      ]
     },
     "execution_count": 58,
     "metadata": {},
     "output_type": "execute_result"
    }
   ],
   "source": [
    "listings.columns"
   ]
  },
  {
   "cell_type": "markdown",
   "metadata": {},
   "source": [
    "## We need to deal with NaN values:\n",
    "\n",
    "- NaN values for host location, host since, host_neighbourhood are likely due to the host simply not wanting to share this info in the listing. Can be replaced by a simple \"Not disclosed\" value\n",
    "\n",
    "- NaN values for host_listings_count, host_total_listings_count, host_verifications,host_has_profile_pic, host_identity_verified and host_is_superhost are likely simply missing values due to error in creating the data. But since all of these have NaN values in less than 0.66 percent of rows, we should simply discard these rows.\n",
    "\n",
    "- As seen from eda_response_acceptance_rate, I did not manage to find good explanations for the missing values in the majority of cases for host_reponse_rate, host_response_time and host_acceptance_rate. However, from eda_reviews, it is evident that these features have almost no correlation with any of the rating features. To my mind, the only way in which acceptance and response rates could impact price would be through offering \"superior service\". But this effect would only be realistic if better response rates and acceptance rates actually impacted ratings, especially communication and check_in. Therefore, my conclusion is that these ratings are unlikely to impact the pricing of a listing, and therefore (as well as the unexplained large number of NaN values), I will remove these columns.\n",
    "\n",
    "- From eda_reviews, we uncovered that NaN values for overall rating is likely caused by a lack of actual reviews (number_of_reviews == 0), whilst more detailed ratings such as cleanliness or accuracy are likely caused by the tenant choosing not to give a more in-depth review as opposed to a more general one. Therefore, a NaN value for overall rating can be replaced by the median of all ratings, and an additional binary variable can be added to indicate that the value was imputed (i.e. \"Has Been Reviewed 1/0\"). The same can be done for all detailed ratings columns \"Detailed Rating 1/0\". However, as was uncovered in eda_response_acceptance_rate, there seemed to be no proper correlation between response_rate/acceptance_rate and ratings for communication and checkin. This means that tenants seem to give a score corresponding to their overall enjoyment as opposed to rating the host on separate merits for each rating feature. Therefore, the easiest and perhaps best solution is to remove the finer granularity ratings and simply retain the overall score with imputed values.\n",
    "\n",
    "- Last_review, as discussed in eda_reviews, is likely not that impactful and is essentially covered by other features. First_review is the closest proxy we have to a creation date of the listing (unless we start going into calendar and finding the first booking), and it may be useful to keep this feature. It is logical to assume that the lack of a review is often tied to the listing not having been active for very long, therefore the best NaN imputation strategy may be to simply choose the latest date in the dataset as the placeholder value. reviews_per_month NaN values can be imputed by replacing NaN values by 0 (since we discovered that NaN values here are caused by a lack of reviews)."
   ]
  },
  {
   "cell_type": "code",
   "execution_count": 92,
   "metadata": {},
   "outputs": [
    {
     "name": "stdout",
     "output_type": "stream",
     "text": [
      "+----+----------------------------------------------+----------------+\n",
      "|    |                    Column                    | NaN Percentage |\n",
      "+----+----------------------------------------------+----------------+\n",
      "| 0  |                      id                      |      0.0       |\n",
      "| 1  |                   host_id                    |      0.0       |\n",
      "| 2  |                  host_since                  |      0.01      |\n",
      "| 3  |                host_location                 |     21.34      |\n",
      "| 4  |              host_response_time              |     33.96      |\n",
      "| 5  |              host_response_rate              |     33.96      |\n",
      "| 6  |             host_acceptance_rate             |     30.69      |\n",
      "| 7  |              host_is_superhost               |      0.66      |\n",
      "| 8  |              host_neighbourhood              |     19.98      |\n",
      "| 9  |             host_listings_count              |      0.01      |\n",
      "| 10 |          host_total_listings_count           |      0.01      |\n",
      "| 11 |              host_verifications              |      0.01      |\n",
      "| 12 |             host_has_profile_pic             |      0.01      |\n",
      "| 13 |            host_identity_verified            |      0.01      |\n",
      "| 14 |            neighbourhood_cleansed            |      0.0       |\n",
      "| 15 |         neighbourhood_group_cleansed         |      0.0       |\n",
      "| 16 |                   latitude                   |      0.0       |\n",
      "| 17 |                  longitude                   |      0.0       |\n",
      "| 18 |                property_type                 |      0.0       |\n",
      "| 19 |                  room_type                   |      0.0       |\n",
      "| 20 |                 accommodates                 |      0.0       |\n",
      "| 21 |                bathrooms_text                |      0.11      |\n",
      "| 22 |                     beds                     |      1.71      |\n",
      "| 23 |                  amenities                   |      0.0       |\n",
      "| 24 |                    price                     |      0.0       |\n",
      "| 25 |                minimum_nights                |      0.0       |\n",
      "| 26 |                maximum_nights                |      0.0       |\n",
      "| 27 |            minimum_nights_avg_ntm            |      0.0       |\n",
      "| 28 |            maximum_nights_avg_ntm            |      0.0       |\n",
      "| 29 |               has_availability               |      0.0       |\n",
      "| 30 |               availability_30                |      0.0       |\n",
      "| 31 |               availability_60                |      0.0       |\n",
      "| 32 |               availability_90                |      0.0       |\n",
      "| 33 |               availability_365               |      0.0       |\n",
      "| 34 |              number_of_reviews               |      0.0       |\n",
      "| 35 |            number_of_reviews_ltm             |      0.0       |\n",
      "| 36 |            number_of_reviews_l30d            |      0.0       |\n",
      "| 37 |                 first_review                 |     26.69      |\n",
      "| 38 |                 last_review                  |     26.69      |\n",
      "| 39 |             review_scores_rating             |     26.67      |\n",
      "| 40 |            review_scores_accuracy            |     27.74      |\n",
      "| 41 |          review_scores_cleanliness           |     27.72      |\n",
      "| 42 |            review_scores_checkin             |     27.75      |\n",
      "| 43 |         review_scores_communication          |     27.73      |\n",
      "| 44 |            review_scores_location            |     27.76      |\n",
      "| 45 |             review_scores_value              |     27.76      |\n",
      "| 46 |               instant_bookable               |      0.0       |\n",
      "| 47 |        calculated_host_listings_count        |      0.0       |\n",
      "| 48 | calculated_host_listings_count_entire_homes  |      0.0       |\n",
      "| 49 | calculated_host_listings_count_private_rooms |      0.0       |\n",
      "| 50 | calculated_host_listings_count_shared_rooms  |      0.0       |\n",
      "| 51 |              reviews_per_month               |     26.69      |\n",
      "+----+----------------------------------------------+----------------+\n",
      "Number of rows: 38792\n"
     ]
    }
   ],
   "source": [
    "# Calculate the percentage of NaN values in each column\n",
    "nan_percentage = (listings.isna().mean() * 100).round(2)\n",
    "\n",
    "# Convert the nan_percentage Series to a DataFrame for formatting\n",
    "nan_percentage_df = nan_percentage.reset_index()\n",
    "nan_percentage_df.columns = ['Column', 'NaN Percentage']\n",
    "\n",
    "# Print the nan_percentage as a nicely formatted table\n",
    "print(tabulate(nan_percentage_df, headers='keys', tablefmt='pretty'))\n",
    "\n",
    "print(\"Number of rows: \" + str(listings.shape[0]))\n"
   ]
  },
  {
   "cell_type": "markdown",
   "metadata": {},
   "source": [
    "First I replace host information NaN values"
   ]
  },
  {
   "cell_type": "code",
   "execution_count": 93,
   "metadata": {},
   "outputs": [],
   "source": [
    "columns_to_replace = ['host_since', 'host_location', 'host_neighbourhood']\n",
    "\n",
    "listings[columns_to_replace] = listings[columns_to_replace].fillna('Not Disclosed')\n"
   ]
  },
  {
   "cell_type": "markdown",
   "metadata": {},
   "source": [
    "Remove columns we deemed not relevant and having high NaN percentage"
   ]
  },
  {
   "cell_type": "code",
   "execution_count": 94,
   "metadata": {},
   "outputs": [],
   "source": [
    "listings = listings.drop(columns=['host_response_time', 'host_response_rate', 'host_acceptance_rate'])\n"
   ]
  },
  {
   "cell_type": "markdown",
   "metadata": {},
   "source": [
    "Replacing NaN values for review_scores_rating by the median of the column and adding a binary variable where \"1\" means the value was imputed. "
   ]
  },
  {
   "cell_type": "code",
   "execution_count": 95,
   "metadata": {},
   "outputs": [],
   "source": [
    "listings['overall_rating_is_imputed'] = listings['review_scores_rating'].isna().astype(int)\n"
   ]
  },
  {
   "cell_type": "code",
   "execution_count": 96,
   "metadata": {},
   "outputs": [
    {
     "name": "stdout",
     "output_type": "stream",
     "text": [
      "Median score: 4.83\n"
     ]
    }
   ],
   "source": [
    "median_score = listings['review_scores_rating'].median()\n",
    "\n",
    "print(\"Median score: \"+ str(median_score))\n"
   ]
  },
  {
   "cell_type": "code",
   "execution_count": 97,
   "metadata": {},
   "outputs": [],
   "source": [
    "listings['review_scores_rating'].fillna(median_score, inplace=True)\n"
   ]
  },
  {
   "cell_type": "markdown",
   "metadata": {},
   "source": [
    "Removing all finer granularity ratings: communication, accuracy, cleanliness, checkin, value, location"
   ]
  },
  {
   "cell_type": "code",
   "execution_count": 98,
   "metadata": {},
   "outputs": [],
   "source": [
    "listings = listings.drop(columns=['review_scores_communication', 'review_scores_accuracy', \n",
    "        'review_scores_cleanliness', 'review_scores_checkin', 'review_scores_value', 'review_scores_location'])\n"
   ]
  },
  {
   "cell_type": "markdown",
   "metadata": {},
   "source": [
    "We remove last_review as discussed and impute first_review by choosing the latest date existing in the first_review column (want this column to serve as a proxy for creation date of the listing). Replace reviews_per_month NaN values by 0."
   ]
  },
  {
   "cell_type": "code",
   "execution_count": 99,
   "metadata": {},
   "outputs": [],
   "source": [
    "listings = listings.drop(columns=['last_review'])"
   ]
  },
  {
   "cell_type": "code",
   "execution_count": 100,
   "metadata": {},
   "outputs": [],
   "source": [
    "listings['first_review'] = pd.to_datetime(listings['first_review'])\n",
    "listings['first_review'] = listings['first_review'].dt.date\n",
    "\n"
   ]
  },
  {
   "cell_type": "code",
   "execution_count": 101,
   "metadata": {},
   "outputs": [
    {
     "name": "stdout",
     "output_type": "stream",
     "text": [
      "Most recent date: 2023-10-01\n"
     ]
    }
   ],
   "source": [
    "most_recent_date = listings['first_review'].dropna().max()\n",
    "\n",
    "print(\"Most recent date: \" + str(most_recent_date))\n"
   ]
  },
  {
   "cell_type": "code",
   "execution_count": 102,
   "metadata": {},
   "outputs": [],
   "source": [
    "listings['first_review'].fillna(most_recent_date, inplace=True)\n"
   ]
  },
  {
   "cell_type": "code",
   "execution_count": 103,
   "metadata": {},
   "outputs": [],
   "source": [
    "listings['reviews_per_month'].fillna(0, inplace=True)\n"
   ]
  },
  {
   "cell_type": "markdown",
   "metadata": {},
   "source": [
    "We now see that the remaining features with NaN values only account for a bit over 1 % of the total dataset. Since we havent found clever ways to impute these columns, as they are likely a result of purely missing data, the last step in the NaN imputation is to remove all rows in which NaN values exist for any of the remaining features which still have NaN values."
   ]
  },
  {
   "cell_type": "code",
   "execution_count": 104,
   "metadata": {},
   "outputs": [
    {
     "name": "stdout",
     "output_type": "stream",
     "text": [
      "+----+----------------------------------------------+----------------+\n",
      "|    |                    Column                    | NaN Percentage |\n",
      "+----+----------------------------------------------+----------------+\n",
      "| 0  |                      id                      |      0.0       |\n",
      "| 1  |                   host_id                    |      0.0       |\n",
      "| 2  |                  host_since                  |      0.0       |\n",
      "| 3  |                host_location                 |      0.0       |\n",
      "| 4  |              host_is_superhost               |      0.66      |\n",
      "| 5  |              host_neighbourhood              |      0.0       |\n",
      "| 6  |             host_listings_count              |      0.01      |\n",
      "| 7  |          host_total_listings_count           |      0.01      |\n",
      "| 8  |              host_verifications              |      0.01      |\n",
      "| 9  |             host_has_profile_pic             |      0.01      |\n",
      "| 10 |            host_identity_verified            |      0.01      |\n",
      "| 11 |            neighbourhood_cleansed            |      0.0       |\n",
      "| 12 |         neighbourhood_group_cleansed         |      0.0       |\n",
      "| 13 |                   latitude                   |      0.0       |\n",
      "| 14 |                  longitude                   |      0.0       |\n",
      "| 15 |                property_type                 |      0.0       |\n",
      "| 16 |                  room_type                   |      0.0       |\n",
      "| 17 |                 accommodates                 |      0.0       |\n",
      "| 18 |                bathrooms_text                |      0.11      |\n",
      "| 19 |                     beds                     |      1.71      |\n",
      "| 20 |                  amenities                   |      0.0       |\n",
      "| 21 |                    price                     |      0.0       |\n",
      "| 22 |                minimum_nights                |      0.0       |\n",
      "| 23 |                maximum_nights                |      0.0       |\n",
      "| 24 |            minimum_nights_avg_ntm            |      0.0       |\n",
      "| 25 |            maximum_nights_avg_ntm            |      0.0       |\n",
      "| 26 |               has_availability               |      0.0       |\n",
      "| 27 |               availability_30                |      0.0       |\n",
      "| 28 |               availability_60                |      0.0       |\n",
      "| 29 |               availability_90                |      0.0       |\n",
      "| 30 |               availability_365               |      0.0       |\n",
      "| 31 |              number_of_reviews               |      0.0       |\n",
      "| 32 |            number_of_reviews_ltm             |      0.0       |\n",
      "| 33 |            number_of_reviews_l30d            |      0.0       |\n",
      "| 34 |                 first_review                 |      0.0       |\n",
      "| 35 |             review_scores_rating             |      0.0       |\n",
      "| 36 |               instant_bookable               |      0.0       |\n",
      "| 37 |        calculated_host_listings_count        |      0.0       |\n",
      "| 38 | calculated_host_listings_count_entire_homes  |      0.0       |\n",
      "| 39 | calculated_host_listings_count_private_rooms |      0.0       |\n",
      "| 40 | calculated_host_listings_count_shared_rooms  |      0.0       |\n",
      "| 41 |              reviews_per_month               |      0.0       |\n",
      "| 42 |          overall_rating_is_imputed           |      0.0       |\n",
      "+----+----------------------------------------------+----------------+\n"
     ]
    }
   ],
   "source": [
    "# Calculate the percentage of NaN values in each column\n",
    "nan_percentage = (listings.isna().mean() * 100).round(2)\n",
    "\n",
    "# Convert the nan_percentage Series to a DataFrame for formatting\n",
    "nan_percentage_df = nan_percentage.reset_index()\n",
    "nan_percentage_df.columns = ['Column', 'NaN Percentage']\n",
    "\n",
    "# Print the nan_percentage as a nicely formatted table\n",
    "print(tabulate(nan_percentage_df, headers='keys', tablefmt='pretty'))"
   ]
  },
  {
   "cell_type": "code",
   "execution_count": 105,
   "metadata": {},
   "outputs": [],
   "source": [
    "listings_cleaned = listings.dropna()\n"
   ]
  },
  {
   "cell_type": "markdown",
   "metadata": {},
   "source": [
    "### Here is the final result, all NaN values handled! We see that we only lost roughly 1000 rows from a dataset of 38'000, not too shabby!"
   ]
  },
  {
   "cell_type": "code",
   "execution_count": 106,
   "metadata": {},
   "outputs": [
    {
     "name": "stdout",
     "output_type": "stream",
     "text": [
      "+----+----------------------------------------------+----------------+\n",
      "|    |                    Column                    | NaN Percentage |\n",
      "+----+----------------------------------------------+----------------+\n",
      "| 0  |                      id                      |      0.0       |\n",
      "| 1  |                   host_id                    |      0.0       |\n",
      "| 2  |                  host_since                  |      0.0       |\n",
      "| 3  |                host_location                 |      0.0       |\n",
      "| 4  |              host_is_superhost               |      0.0       |\n",
      "| 5  |              host_neighbourhood              |      0.0       |\n",
      "| 6  |             host_listings_count              |      0.0       |\n",
      "| 7  |          host_total_listings_count           |      0.0       |\n",
      "| 8  |              host_verifications              |      0.0       |\n",
      "| 9  |             host_has_profile_pic             |      0.0       |\n",
      "| 10 |            host_identity_verified            |      0.0       |\n",
      "| 11 |            neighbourhood_cleansed            |      0.0       |\n",
      "| 12 |         neighbourhood_group_cleansed         |      0.0       |\n",
      "| 13 |                   latitude                   |      0.0       |\n",
      "| 14 |                  longitude                   |      0.0       |\n",
      "| 15 |                property_type                 |      0.0       |\n",
      "| 16 |                  room_type                   |      0.0       |\n",
      "| 17 |                 accommodates                 |      0.0       |\n",
      "| 18 |                bathrooms_text                |      0.0       |\n",
      "| 19 |                     beds                     |      0.0       |\n",
      "| 20 |                  amenities                   |      0.0       |\n",
      "| 21 |                    price                     |      0.0       |\n",
      "| 22 |                minimum_nights                |      0.0       |\n",
      "| 23 |                maximum_nights                |      0.0       |\n",
      "| 24 |            minimum_nights_avg_ntm            |      0.0       |\n",
      "| 25 |            maximum_nights_avg_ntm            |      0.0       |\n",
      "| 26 |               has_availability               |      0.0       |\n",
      "| 27 |               availability_30                |      0.0       |\n",
      "| 28 |               availability_60                |      0.0       |\n",
      "| 29 |               availability_90                |      0.0       |\n",
      "| 30 |               availability_365               |      0.0       |\n",
      "| 31 |              number_of_reviews               |      0.0       |\n",
      "| 32 |            number_of_reviews_ltm             |      0.0       |\n",
      "| 33 |            number_of_reviews_l30d            |      0.0       |\n",
      "| 34 |                 first_review                 |      0.0       |\n",
      "| 35 |             review_scores_rating             |      0.0       |\n",
      "| 36 |               instant_bookable               |      0.0       |\n",
      "| 37 |        calculated_host_listings_count        |      0.0       |\n",
      "| 38 | calculated_host_listings_count_entire_homes  |      0.0       |\n",
      "| 39 | calculated_host_listings_count_private_rooms |      0.0       |\n",
      "| 40 | calculated_host_listings_count_shared_rooms  |      0.0       |\n",
      "| 41 |              reviews_per_month               |      0.0       |\n",
      "| 42 |          overall_rating_is_imputed           |      0.0       |\n",
      "+----+----------------------------------------------+----------------+\n",
      "Number of rows: 37843\n"
     ]
    }
   ],
   "source": [
    "# Calculate the percentage of NaN values in each column\n",
    "nan_percentage = (listings_cleaned.isna().mean() * 100).round(2)\n",
    "\n",
    "# Convert the nan_percentage Series to a DataFrame for formatting\n",
    "nan_percentage_df = nan_percentage.reset_index()\n",
    "nan_percentage_df.columns = ['Column', 'NaN Percentage']\n",
    "\n",
    "# Print the nan_percentage as a nicely formatted table\n",
    "print(tabulate(nan_percentage_df, headers='keys', tablefmt='pretty'))\n",
    "\n",
    "\n",
    "print(\"Number of rows: \" + str(listings_cleaned.shape[0]))\n"
   ]
  },
  {
   "cell_type": "markdown",
   "metadata": {},
   "source": [
    "Write it to csv"
   ]
  },
  {
   "cell_type": "code",
   "execution_count": 108,
   "metadata": {},
   "outputs": [],
   "source": [
    "listings_cleaned.to_csv(\"listings_cleaned.csv\", index=False)"
   ]
  },
  {
   "cell_type": "markdown",
   "metadata": {},
   "source": [
    "Load so we can start here (do not have to repeat all imputations above every time)"
   ]
  },
  {
   "cell_type": "code",
   "execution_count": 16,
   "metadata": {},
   "outputs": [],
   "source": [
    "listings_cleaned = pd.read_csv(\"listings_cleaned.csv\")"
   ]
  },
  {
   "cell_type": "markdown",
   "metadata": {},
   "source": [
    "### Now, to counter the effects of the curse of dimensionality, it is necessary to examine which features can be removed:\n",
    "\n",
    "- Host_id may be interesting due to the fact that it accounts for differences in host behaviours, but this effect is already likely a part of the rating feature. Therefore, due to the very large number of unique hosts (23'000) we remove this feature. Listing Id (ID) should also be removed for obvious reasons.\n",
    "\n",
    "- Without having checked it, it is very likely that the four different availability columns for different time horizons are storngly correlated, keeping 30 days and 365 days seems the most obvious choice.\n",
    "\n",
    "- We dont need three different number_of_reviews for different time horizons. The best choice is probably to remove 30days, since it is such a short time span. We keep last twelve months (ltm) and total.\n",
    "\n",
    "- Having both host_total_listings_count and host_listings_count, as well as listings counts for entire homes, private rooms and shared rooms seems excessive. Having a total_listings_count column could be a good indicator of the host's experience as a host, and should be kept. The remaining columns are likely not that vital.\n"
   ]
  },
  {
   "cell_type": "code",
   "execution_count": 17,
   "metadata": {},
   "outputs": [],
   "source": [
    "listings_cleaned = listings_cleaned.drop(columns=['id', 'host_id', 'host_listings_count', 'calculated_host_listings_count_entire_homes'\n",
    "        , 'calculated_host_listings_count_private_rooms', 'calculated_host_listings_count_shared_rooms',\n",
    "        'availability_60', 'availability_90', 'number_of_reviews_l30d', 'calculated_host_listings_count'])\n"
   ]
  },
  {
   "cell_type": "code",
   "execution_count": 18,
   "metadata": {},
   "outputs": [
    {
     "name": "stdout",
     "output_type": "stream",
     "text": [
      "+----+------------------------------+----------------+\n",
      "|    |            Column            | NaN Percentage |\n",
      "+----+------------------------------+----------------+\n",
      "| 0  |          host_since          |      0.0       |\n",
      "| 1  |        host_location         |      0.0       |\n",
      "| 2  |      host_is_superhost       |      0.0       |\n",
      "| 3  |      host_neighbourhood      |      0.0       |\n",
      "| 4  |  host_total_listings_count   |      0.0       |\n",
      "| 5  |      host_verifications      |      0.0       |\n",
      "| 6  |     host_has_profile_pic     |      0.0       |\n",
      "| 7  |    host_identity_verified    |      0.0       |\n",
      "| 8  |    neighbourhood_cleansed    |      0.0       |\n",
      "| 9  | neighbourhood_group_cleansed |      0.0       |\n",
      "| 10 |           latitude           |      0.0       |\n",
      "| 11 |          longitude           |      0.0       |\n",
      "| 12 |        property_type         |      0.0       |\n",
      "| 13 |          room_type           |      0.0       |\n",
      "| 14 |         accommodates         |      0.0       |\n",
      "| 15 |        bathrooms_text        |      0.0       |\n",
      "| 16 |             beds             |      0.0       |\n",
      "| 17 |          amenities           |      0.0       |\n",
      "| 18 |            price             |      0.0       |\n",
      "| 19 |        minimum_nights        |      0.0       |\n",
      "| 20 |        maximum_nights        |      0.0       |\n",
      "| 21 |    minimum_nights_avg_ntm    |      0.0       |\n",
      "| 22 |    maximum_nights_avg_ntm    |      0.0       |\n",
      "| 23 |       has_availability       |      0.0       |\n",
      "| 24 |       availability_30        |      0.0       |\n",
      "| 25 |       availability_365       |      0.0       |\n",
      "| 26 |      number_of_reviews       |      0.0       |\n",
      "| 27 |    number_of_reviews_ltm     |      0.0       |\n",
      "| 28 |         first_review         |      0.0       |\n",
      "| 29 |     review_scores_rating     |      0.0       |\n",
      "| 30 |       instant_bookable       |      0.0       |\n",
      "| 31 |      reviews_per_month       |      0.0       |\n",
      "| 32 |  overall_rating_is_imputed   |      0.0       |\n",
      "+----+------------------------------+----------------+\n",
      "Number of rows: 37843\n"
     ]
    }
   ],
   "source": [
    "# Calculate the percentage of NaN values in each column\n",
    "nan_percentage = (listings_cleaned.isna().mean() * 100).round(2)\n",
    "\n",
    "# Convert the nan_percentage Series to a DataFrame for formatting\n",
    "nan_percentage_df = nan_percentage.reset_index()\n",
    "nan_percentage_df.columns = ['Column', 'NaN Percentage']\n",
    "\n",
    "# Print the nan_percentage as a nicely formatted table\n",
    "print(tabulate(nan_percentage_df, headers='keys', tablefmt='pretty'))\n",
    "\n",
    "\n",
    "print(\"Number of rows: \" + str(listings_cleaned.shape[0]))\n"
   ]
  },
  {
   "cell_type": "code",
   "execution_count": 21,
   "metadata": {},
   "outputs": [],
   "source": [
    "listings_cleaned.to_csv(\"listings_cleaned_cleaved.csv\", index=False)"
   ]
  },
  {
   "cell_type": "code",
   "execution_count": null,
   "metadata": {},
   "outputs": [],
   "source": []
  }
 ],
 "metadata": {
  "kernelspec": {
   "display_name": "venv",
   "language": "python",
   "name": "python3"
  },
  "language_info": {
   "codemirror_mode": {
    "name": "ipython",
    "version": 3
   },
   "file_extension": ".py",
   "mimetype": "text/x-python",
   "name": "python",
   "nbconvert_exporter": "python",
   "pygments_lexer": "ipython3",
   "version": "3.11.6"
  },
  "orig_nbformat": 4
 },
 "nbformat": 4,
 "nbformat_minor": 2
}
