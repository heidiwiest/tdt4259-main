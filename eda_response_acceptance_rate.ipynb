{
 "cells": [
  {
   "cell_type": "code",
   "execution_count": 1,
   "metadata": {},
   "outputs": [],
   "source": [
    "import pandas as pd\n",
    "import gzip\n",
    "import matplotlib.pyplot as plt\n",
    "import seaborn as sns\n",
    "from tabulate import tabulate"
   ]
  },
  {
   "cell_type": "code",
   "execution_count": 2,
   "metadata": {},
   "outputs": [],
   "source": [
    "#Listings, including full descriptions and average review score\n",
    "#Reviews, including unique id for each reviewer and detailed comments\n",
    "#Calendar, including listing id and the price and availability for that day"
   ]
  },
  {
   "cell_type": "code",
   "execution_count": 3,
   "metadata": {},
   "outputs": [],
   "source": [
    "names = ['calendar', 'listings', 'reviews']\n",
    "dataframes = {}\n",
    "\n",
    "for name in names:\n",
    "    # Define the file path\n",
    "    file_path = 'data/' + name + '.csv.gz'\n",
    "    # Use gzip.open to decompress the file and then read it with Pandas\n",
    "    with gzip.open(file_path, 'rt', encoding='utf-8') as file:\n",
    "        data = pd.read_csv(file)\n",
    "\n",
    "    dataframes[name] = data"
   ]
  },
  {
   "cell_type": "code",
   "execution_count": 15,
   "metadata": {},
   "outputs": [],
   "source": [
    "listings = dataframes['listings']"
   ]
  },
  {
   "cell_type": "markdown",
   "metadata": {},
   "source": [
    "## Features som burde fjernes\n",
    "\n",
    "#### listing_url, scrape_id, last_scraped, source, host_url, host_name, host_thumbnail_url, host_picture_url, license (noen steder må man ha lisens, kunder ser ikke dette), calender_last_scraped, calendar_updated (kun NaN), name, picture_url,\n",
    "\n"
   ]
  },
  {
   "cell_type": "code",
   "execution_count": 16,
   "metadata": {},
   "outputs": [],
   "source": [
    "listings = listings.drop(columns=['listing_url', 'scrape_id', 'last_scraped', 'source', 'host_url', \n",
    "    'host_name', 'host_thumbnail_url', 'host_picture_url', 'license', 'calendar_last_scraped', \n",
    "    'calendar_updated', 'name', 'picture_url'])"
   ]
  },
  {
   "cell_type": "markdown",
   "metadata": {},
   "source": [
    "## Features som krever tekstsøk \n",
    "#### description, neighborhood_overview, host_about\n",
    "\n",
    "\n"
   ]
  },
  {
   "cell_type": "code",
   "execution_count": 17,
   "metadata": {},
   "outputs": [],
   "source": [
    "listings = listings.drop(columns=[\"description\", \"neighborhood_overview\", \"host_about\"])"
   ]
  },
  {
   "cell_type": "markdown",
   "metadata": {},
   "source": [
    "## Features som burde fjernes pga mange NaN values:\n",
    "#### Neighbourhood (kan erstattes av clustering med lat/lon), bathrooms (NaN imputation muligheter med bathroom text), bedrooms (NaN imputation muligheter?)"
   ]
  },
  {
   "cell_type": "code",
   "execution_count": 18,
   "metadata": {},
   "outputs": [],
   "source": [
    "listings = listings.drop(columns=[\"neighbourhood\", \"bathrooms\", \"bedrooms\"])"
   ]
  },
  {
   "cell_type": "markdown",
   "metadata": {},
   "source": [
    "### Fjerner alle max, min nights features utenom max_nights og min_nights. Ikke strengt talt ubrukelige features, men vil utvilsomt ha høy korrelasjon med max_nights og min_nights, og usikker på hvor mye ekstra forklaringsevne de tilfører problemet. \n",
    "\n",
    "### Beholder max og min nights ntm (next twelve months), fordi dette blir noe litt annet, tror dette er lengste og korteste planlagte/booket opphold neste tolv månedene."
   ]
  },
  {
   "cell_type": "code",
   "execution_count": 21,
   "metadata": {},
   "outputs": [],
   "source": [
    "listings = listings.drop(columns=[\"minimum_minimum_nights\", \"maximum_minimum_nights\", \n",
    "        \"minimum_maximum_nights\", \"maximum_maximum_nights\"])"
   ]
  },
  {
   "cell_type": "code",
   "execution_count": 22,
   "metadata": {},
   "outputs": [
    {
     "data": {
      "text/plain": [
       "Index(['id', 'host_id', 'host_since', 'host_location', 'host_response_time',\n",
       "       'host_response_rate', 'host_acceptance_rate', 'host_is_superhost',\n",
       "       'host_neighbourhood', 'host_listings_count',\n",
       "       'host_total_listings_count', 'host_verifications',\n",
       "       'host_has_profile_pic', 'host_identity_verified',\n",
       "       'neighbourhood_cleansed', 'neighbourhood_group_cleansed', 'latitude',\n",
       "       'longitude', 'property_type', 'room_type', 'accommodates',\n",
       "       'bathrooms_text', 'beds', 'amenities', 'price', 'minimum_nights',\n",
       "       'maximum_nights', 'minimum_nights_avg_ntm', 'maximum_nights_avg_ntm',\n",
       "       'has_availability', 'availability_30', 'availability_60',\n",
       "       'availability_90', 'availability_365', 'number_of_reviews',\n",
       "       'number_of_reviews_ltm', 'number_of_reviews_l30d', 'first_review',\n",
       "       'last_review', 'review_scores_rating', 'review_scores_accuracy',\n",
       "       'review_scores_cleanliness', 'review_scores_checkin',\n",
       "       'review_scores_communication', 'review_scores_location',\n",
       "       'review_scores_value', 'instant_bookable',\n",
       "       'calculated_host_listings_count',\n",
       "       'calculated_host_listings_count_entire_homes',\n",
       "       'calculated_host_listings_count_private_rooms',\n",
       "       'calculated_host_listings_count_shared_rooms', 'reviews_per_month'],\n",
       "      dtype='object')"
      ]
     },
     "execution_count": 22,
     "metadata": {},
     "output_type": "execute_result"
    }
   ],
   "source": [
    "listings.columns"
   ]
  },
  {
   "cell_type": "code",
   "execution_count": 24,
   "metadata": {},
   "outputs": [
    {
     "name": "stdout",
     "output_type": "stream",
     "text": [
      "+----+----------------------------------------------+----------------+\n",
      "|    |                    Column                    | NaN Percentage |\n",
      "+----+----------------------------------------------+----------------+\n",
      "| 0  |                      id                      |      0.0       |\n",
      "| 1  |                   host_id                    |      0.0       |\n",
      "| 2  |                  host_since                  |      0.01      |\n",
      "| 3  |                host_location                 |     21.34      |\n",
      "| 4  |              host_response_time              |     33.96      |\n",
      "| 5  |              host_response_rate              |     33.96      |\n",
      "| 6  |             host_acceptance_rate             |     30.69      |\n",
      "| 7  |              host_is_superhost               |      0.66      |\n",
      "| 8  |              host_neighbourhood              |     19.98      |\n",
      "| 9  |             host_listings_count              |      0.01      |\n",
      "| 10 |          host_total_listings_count           |      0.01      |\n",
      "| 11 |              host_verifications              |      0.01      |\n",
      "| 12 |             host_has_profile_pic             |      0.01      |\n",
      "| 13 |            host_identity_verified            |      0.01      |\n",
      "| 14 |            neighbourhood_cleansed            |      0.0       |\n",
      "| 15 |         neighbourhood_group_cleansed         |      0.0       |\n",
      "| 16 |                   latitude                   |      0.0       |\n",
      "| 17 |                  longitude                   |      0.0       |\n",
      "| 18 |                property_type                 |      0.0       |\n",
      "| 19 |                  room_type                   |      0.0       |\n",
      "| 20 |                 accommodates                 |      0.0       |\n",
      "| 21 |                bathrooms_text                |      0.11      |\n",
      "| 22 |                     beds                     |      1.71      |\n",
      "| 23 |                  amenities                   |      0.0       |\n",
      "| 24 |                    price                     |      0.0       |\n",
      "| 25 |                minimum_nights                |      0.0       |\n",
      "| 26 |                maximum_nights                |      0.0       |\n",
      "| 27 |            minimum_nights_avg_ntm            |      0.0       |\n",
      "| 28 |            maximum_nights_avg_ntm            |      0.0       |\n",
      "| 29 |               has_availability               |      0.0       |\n",
      "| 30 |               availability_30                |      0.0       |\n",
      "| 31 |               availability_60                |      0.0       |\n",
      "| 32 |               availability_90                |      0.0       |\n",
      "| 33 |               availability_365               |      0.0       |\n",
      "| 34 |              number_of_reviews               |      0.0       |\n",
      "| 35 |            number_of_reviews_ltm             |      0.0       |\n",
      "| 36 |            number_of_reviews_l30d            |      0.0       |\n",
      "| 37 |                 first_review                 |     26.69      |\n",
      "| 38 |                 last_review                  |     26.69      |\n",
      "| 39 |             review_scores_rating             |     26.67      |\n",
      "| 40 |            review_scores_accuracy            |     27.74      |\n",
      "| 41 |          review_scores_cleanliness           |     27.72      |\n",
      "| 42 |            review_scores_checkin             |     27.75      |\n",
      "| 43 |         review_scores_communication          |     27.73      |\n",
      "| 44 |            review_scores_location            |     27.76      |\n",
      "| 45 |             review_scores_value              |     27.76      |\n",
      "| 46 |               instant_bookable               |      0.0       |\n",
      "| 47 |        calculated_host_listings_count        |      0.0       |\n",
      "| 48 | calculated_host_listings_count_entire_homes  |      0.0       |\n",
      "| 49 | calculated_host_listings_count_private_rooms |      0.0       |\n",
      "| 50 | calculated_host_listings_count_shared_rooms  |      0.0       |\n",
      "| 51 |              reviews_per_month               |     26.69      |\n",
      "+----+----------------------------------------------+----------------+\n"
     ]
    }
   ],
   "source": [
    "# Calculate the percentage of NaN values in each column\n",
    "nan_percentage = (listings.isna().mean() * 100).round(2)\n",
    "\n",
    "# Convert the nan_percentage Series to a DataFrame for formatting\n",
    "nan_percentage_df = nan_percentage.reset_index()\n",
    "nan_percentage_df.columns = ['Column', 'NaN Percentage']\n",
    "\n",
    "# Print the nan_percentage as a nicely formatted table\n",
    "print(tabulate(nan_percentage_df, headers='keys', tablefmt='pretty'))"
   ]
  },
  {
   "cell_type": "markdown",
   "metadata": {},
   "source": [
    "#### Jeg har først lyst til å utforske NaN values i host response time, host response rate og host acceptance rate. Jeg ønsker primært å avdekke hvorvidt NaN values stammer fra feil i dataen, eller om NaN values representerer mangel på forespørsler på annonsen over annonsens livsstid eller at disse ratene \"resettes\" dersom man ikke har hatt forespørsler de siste X årene.\n",
    "\n",
    "#### Et viktig moment er at dette er statistikk på HOST, ikke på annonsen. Det vil si at denne statistikken påvirkes av andre annonser enn den vi ser på."
   ]
  },
  {
   "cell_type": "markdown",
   "metadata": {},
   "source": [
    "#### last_review forteller når man sist mottok en anmeldelse fra leietaker. Dersom alle rader med NaN values på acceptance rate, response rate og response time har siste anmeldelse langt tilbake i tid, så kan dette implisere at disse ratene nullstilles etter et gitt tidspunkt (f.eks etter 2019). \n",
    "\n",
    "#### Ser derimot nedenfor at man finner en rad der siste anmeldelse var i 2023, men likevel har NaN values på alle tre rater. Det vil si at det finnes NaN values som ikke kan forklares, og må behandles som missing values."
   ]
  },
  {
   "cell_type": "code",
   "execution_count": 35,
   "metadata": {},
   "outputs": [
    {
     "data": {
      "text/plain": [
       "id                                                                                       27620424\n",
       "host_id                                                                                 112963302\n",
       "host_since                                                                             2017-01-23\n",
       "host_location                                                                        New York, NY\n",
       "host_response_time                                                                            NaN\n",
       "host_response_rate                                                                            NaN\n",
       "host_acceptance_rate                                                                          NaN\n",
       "host_is_superhost                                                                               f\n",
       "host_neighbourhood                                                                            NaN\n",
       "host_listings_count                                                                           1.0\n",
       "host_total_listings_count                                                                     3.0\n",
       "host_verifications                                                             ['email', 'phone']\n",
       "host_has_profile_pic                                                                            t\n",
       "host_identity_verified                                                                          t\n",
       "neighbourhood_cleansed                                                            Jamaica Estates\n",
       "neighbourhood_group_cleansed                                                               Queens\n",
       "latitude                                                                                 40.71261\n",
       "longitude                                                                               -73.78967\n",
       "property_type                                                                  Entire rental unit\n",
       "room_type                                                                         Entire home/apt\n",
       "accommodates                                                                                    4\n",
       "bathrooms_text                                                                             1 bath\n",
       "beds                                                                                          4.0\n",
       "amenities                                       [\"Microwave\", \"Cleaning products\", \"Body soap\"...\n",
       "price                                                                                     $145.00\n",
       "minimum_nights                                                                                 30\n",
       "maximum_nights                                                                               1125\n",
       "minimum_nights_avg_ntm                                                                       30.0\n",
       "maximum_nights_avg_ntm                                                                     1125.0\n",
       "has_availability                                                                                t\n",
       "availability_30                                                                                17\n",
       "availability_60                                                                                44\n",
       "availability_90                                                                                74\n",
       "availability_365                                                                              349\n",
       "number_of_reviews                                                                              49\n",
       "number_of_reviews_ltm                                                                          16\n",
       "number_of_reviews_l30d                                                                          4\n",
       "first_review                                                                           2018-09-01\n",
       "last_review                                                                   2023-10-01 00:00:00\n",
       "review_scores_rating                                                                         4.72\n",
       "review_scores_accuracy                                                                        4.7\n",
       "review_scores_cleanliness                                                                    4.46\n",
       "review_scores_checkin                                                                        4.76\n",
       "review_scores_communication                                                                   4.8\n",
       "review_scores_location                                                                       4.67\n",
       "review_scores_value                                                                          4.48\n",
       "instant_bookable                                                                                t\n",
       "calculated_host_listings_count                                                                  1\n",
       "calculated_host_listings_count_entire_homes                                                     1\n",
       "calculated_host_listings_count_private_rooms                                                    0\n",
       "calculated_host_listings_count_shared_rooms                                                     0\n",
       "reviews_per_month                                                                            0.79\n",
       "Name: 5605, dtype: object"
      ]
     },
     "execution_count": 35,
     "metadata": {},
     "output_type": "execute_result"
    }
   ],
   "source": [
    "listings[\"last_review\"] = pd.to_datetime(listings[\"last_review\"])\n",
    "\n",
    "latest_nan_date_id = listings[listings['host_acceptance_rate'].isna()]['last_review'].idxmax()\n",
    "listings.loc[5605]"
   ]
  },
  {
   "cell_type": "markdown",
   "metadata": {},
   "source": [
    "#### Nå ønsker jeg å se om det er en sammenheng i NaN values mellom de tre ratene, spesifikt acceptance rate vs. response rate. Finner rader der man har NaN på acceptance rate men faktiske verdier for response. Ser også at reviews er NaN, som kan bety at slike rader inntreffer når hosten får en forespørsel men ikke aksepterer den."
   ]
  },
  {
   "cell_type": "code",
   "execution_count": 60,
   "metadata": {},
   "outputs": [
    {
     "data": {
      "text/plain": [
       "id                                                                                       48093831\n",
       "host_id                                                                                 385609575\n",
       "host_since                                                                             2021-01-22\n",
       "host_location                                                                        New York, NY\n",
       "host_response_time                                                                 within an hour\n",
       "host_response_rate                                                                           100%\n",
       "host_acceptance_rate                                                                          NaN\n",
       "host_is_superhost                                                                               f\n",
       "host_neighbourhood                                                                   Far Rockaway\n",
       "host_listings_count                                                                           1.0\n",
       "host_total_listings_count                                                                     1.0\n",
       "host_verifications                                                             ['email', 'phone']\n",
       "host_has_profile_pic                                                                            t\n",
       "host_identity_verified                                                                          t\n",
       "neighbourhood_cleansed                                                               Far Rockaway\n",
       "neighbourhood_group_cleansed                                                               Queens\n",
       "latitude                                                                                 40.59607\n",
       "longitude                                                                               -73.73876\n",
       "property_type                                                                      Entire cottage\n",
       "room_type                                                                         Entire home/apt\n",
       "accommodates                                                                                   12\n",
       "bathrooms_text                                                                            4 baths\n",
       "beds                                                                                          8.0\n",
       "amenities                                       [\"Drying rack for clothing\", \"Microwave\", \"Bak...\n",
       "price                                                                                     $790.00\n",
       "minimum_nights                                                                                 30\n",
       "maximum_nights                                                                               1125\n",
       "minimum_nights_avg_ntm                                                                       30.0\n",
       "maximum_nights_avg_ntm                                                                     1125.0\n",
       "has_availability                                                                                t\n",
       "availability_30                                                                                10\n",
       "availability_60                                                                                40\n",
       "availability_90                                                                                70\n",
       "availability_365                                                                               70\n",
       "number_of_reviews                                                                               0\n",
       "number_of_reviews_ltm                                                                           0\n",
       "number_of_reviews_l30d                                                                          0\n",
       "first_review                                                                                  NaN\n",
       "last_review                                                                                   NaT\n",
       "review_scores_rating                                                                          NaN\n",
       "review_scores_accuracy                                                                        NaN\n",
       "review_scores_cleanliness                                                                     NaN\n",
       "review_scores_checkin                                                                         NaN\n",
       "review_scores_communication                                                                   NaN\n",
       "review_scores_location                                                                        NaN\n",
       "review_scores_value                                                                           NaN\n",
       "instant_bookable                                                                                f\n",
       "calculated_host_listings_count                                                                  1\n",
       "calculated_host_listings_count_entire_homes                                                     1\n",
       "calculated_host_listings_count_private_rooms                                                    0\n",
       "calculated_host_listings_count_shared_rooms                                                     0\n",
       "reviews_per_month                                                                             NaN\n",
       "Name: 478, dtype: object"
      ]
     },
     "execution_count": 60,
     "metadata": {},
     "output_type": "execute_result"
    }
   ],
   "source": [
    "acceptance_nan_response_notna = listings[listings['host_acceptance_rate'].isna() \n",
    "        & listings['host_response_rate'].notna()]\n",
    "\n",
    "acceptance_nan_response_notna.iloc[4]"
   ]
  },
  {
   "cell_type": "markdown",
   "metadata": {},
   "source": [
    "#### Sjekker derfor om tilfeller der kun acceptance rate er NaN stammer fra at hosten har svart på forespørsel men sagt nei til leietaker. Ser at det er 191 tilfeller der man har en review + reponse rate, men likevel har NaN value på acceptance rate. Altså virker det som at det er uforklarige missing values her også for acceptance rate."
   ]
  },
  {
   "cell_type": "code",
   "execution_count": 77,
   "metadata": {},
   "outputs": [
    {
     "name": "stdout",
     "output_type": "stream",
     "text": [
      "Number of rows in which only acceptance rate is NaN and listing still has review: 191\n"
     ]
    }
   ],
   "source": [
    "nan_count = acceptance_nan_response_notna['last_review'].notna().sum()\n",
    "print(\"Number of rows in which only acceptance rate is NaN and listing still has review: \" + str(nan_count))\n"
   ]
  },
  {
   "cell_type": "markdown",
   "metadata": {},
   "source": [
    "### Sjekker om NaN values i response rate og response time alltid forekommer samtidig"
   ]
  },
  {
   "cell_type": "code",
   "execution_count": 71,
   "metadata": {},
   "outputs": [
    {
     "name": "stdout",
     "output_type": "stream",
     "text": [
      "Number of rows where 'host_response_time' is NaN and 'host_response_rate' is not NaN: 0\n",
      "Number of rows where 'host_response_time' is not NaN and 'host_response_rate' is NaN: 0\n"
     ]
    }
   ],
   "source": [
    "# Condition for rows where 'host_response_time' is NaN and 'host_response_rate' is not NaN\n",
    "condition_time_nan_rate_notna = listings['host_response_time'].isna() & listings['host_response_rate'].notna()\n",
    "\n",
    "# Condition for rows where 'host_response_rate' is NaN and 'host_response_time' is not NaN\n",
    "condition_time_notna_rate_nan = listings['host_response_time'].notna() & listings['host_response_rate'].isna()\n",
    "\n",
    "\n",
    "count_time_nan_rate_notna = condition_time_nan_rate_notna.sum()\n",
    "count_time_notna_rate_nan = condition_time_notna_rate_nan.sum()\n",
    "\n",
    "print(f\"Number of rows where 'host_response_time' is NaN and 'host_response_rate' is not NaN: {count_time_nan_rate_notna}\")\n",
    "print(f\"Number of rows where 'host_response_time' is not NaN and 'host_response_rate' is NaN: {count_time_notna_rate_nan}\")\n"
   ]
  },
  {
   "cell_type": "markdown",
   "metadata": {},
   "source": [
    "#### Konklusjon: Det finnes missing values for både response og acceptance rate som ikke kan forklares av mangel på opphold den siste perioden eller totalt for annonsens levetid. Videre finnes det rader der response har value mens acceptance er NaN som ikke kan forklares av mangel på faktisk opphold (review som proxy). NaN values i response rate og response time opptrer alltid sammen, som kan antyde at det finnes et mønster i hvordan NaN values oppstår for disse to kolonnene. Jeg tror sannsynligvis at det rett og slett finnes annonser som AirBnB ikke har data på når det gjelder respons og/eller acceptance. Nøyaktig hvorfor de ikke har denne dataen er jeg usikker på.\n",
    "\n"
   ]
  },
  {
   "cell_type": "markdown",
   "metadata": {},
   "source": []
  }
 ],
 "metadata": {
  "kernelspec": {
   "display_name": "venv",
   "language": "python",
   "name": "python3"
  },
  "language_info": {
   "codemirror_mode": {
    "name": "ipython",
    "version": 3
   },
   "file_extension": ".py",
   "mimetype": "text/x-python",
   "name": "python",
   "nbconvert_exporter": "python",
   "pygments_lexer": "ipython3",
   "version": "3.11.6"
  },
  "orig_nbformat": 4
 },
 "nbformat": 4,
 "nbformat_minor": 2
}
