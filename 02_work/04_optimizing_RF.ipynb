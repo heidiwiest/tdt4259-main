{
 "cells": [
  {
   "cell_type": "code",
   "execution_count": 32,
   "metadata": {},
   "outputs": [
    {
     "data": {
      "text/plain": [
       "\"\\n#Create the GridSearchCV object\\ngrid_search = GridSearchCV(estimator=rf, param_grid=param_grid, \\n                           cv=kfold, n_jobs=-1, verbose=2, scoring='neg_mean_squared_error')\\n\\n#Fit the grid search to the data\\ngrid_search.fit(X, y)\\n\\n## Best parameters found\\nbest_params = grid_search.best_params_\\n\\n## Best estimator with the optimal settings\\nbest_rf = grid_search.best_estimator_\\n\""
      ]
     },
     "execution_count": 32,
     "metadata": {},
     "output_type": "execute_result"
    }
   ],
   "source": [
    "import pandas as pd\n",
    "from sklearn.model_selection import GridSearchCV, KFold\n",
    "from sklearn.ensemble import RandomForestRegressor\n",
    "from sklearn.metrics import make_scorer, mean_squared_error\n",
    "import matplotlib.pyplot as plt\n",
    "from sklearn.model_selection import train_test_split\n",
    "import numpy as np\n",
    "from sklearn.base import BaseEstimator, RegressorMixin\n",
    "from sklearn.model_selection import cross_val_score\n",
    "\n",
    "# Load data\n",
    "data = pd.read_csv('../data/training_set_prepped.csv')\n",
    "test_set = pd.read_csv('../data/test_set_prepped.csv')\n",
    "\n",
    "# Split the data into features and target\n",
    "X = data.drop('price', axis=1)\n",
    "y = data['price']\n",
    "\n",
    "# Define the model\n",
    "rf = RandomForestRegressor()\n",
    "\n",
    "\n",
    "## Define the K-fold cross validator\n",
    "kfold = KFold(n_splits=5, shuffle=True, random_state=42)\n",
    "\n",
    "\n",
    "param_grid = {\n",
    "    'n_estimators': [100, 200, 300],  # Number of trees in the random forest\n",
    "   'max_features': ['auto', 'sqrt'],  # Number of features to consider at every split\n",
    "    'max_depth': [10, 20, 30],         # Maximum number of levels in tree\n",
    "    'min_samples_split': [2, 5, 10],   # Minimum number of samples required to split a node\n",
    "    'min_samples_leaf': [1, 2, 4],     # Minimum number of samples required at each leaf node\n",
    "    'bootstrap': [True, False]         # Method of selecting samples for training each tree\n",
    "}\n",
    "\n",
    "\n",
    "'''\n",
    "#Create the GridSearchCV object\n",
    "grid_search = GridSearchCV(estimator=rf, param_grid=param_grid, \n",
    "                           cv=kfold, n_jobs=-1, verbose=2, scoring='neg_mean_squared_error')\n",
    "\n",
    "#Fit the grid search to the data\n",
    "grid_search.fit(X, y)\n",
    "\n",
    "## Best parameters found\n",
    "best_params = grid_search.best_params_\n",
    "\n",
    "## Best estimator with the optimal settings\n",
    "best_rf = grid_search.best_estimator_\n",
    "'''"
   ]
  },
  {
   "cell_type": "code",
   "execution_count": 22,
   "metadata": {},
   "outputs": [
    {
     "data": {
      "text/plain": [
       "RandomForestRegressor(bootstrap=False, max_depth=20, max_features='sqrt',\n",
       "                      min_samples_leaf=2, min_samples_split=5,\n",
       "                      n_estimators=300)"
      ]
     },
     "execution_count": 22,
     "metadata": {},
     "output_type": "execute_result"
    }
   ],
   "source": [
    "\n",
    "#Best parameters found:\n",
    "best_parameters2 = {'bootstrap': False,\n",
    " 'max_depth': 20,\n",
    " 'max_features': 'sqrt',\n",
    " 'min_samples_leaf': 1,\n",
    " 'min_samples_split': 10,\n",
    " 'n_estimators': 300}\n",
    "\n",
    "new_best_parameters = {'bootstrap': False,\n",
    " 'max_depth': 20,\n",
    " 'max_features': 'sqrt',\n",
    " 'min_samples_leaf': 2,\n",
    " 'min_samples_split': 5,\n",
    " 'n_estimators': 300}\n",
    "\n",
    " #Best estimator with the optimal settings\n",
    "best_rf = RandomForestRegressor(bootstrap=False, max_depth=20, max_features='sqrt',\n",
    "                      min_samples_split=5, n_estimators=300, min_samples_leaf=2)   \n",
    "\n",
    "\n",
    "best_rf.fit(X, y)"
   ]
  },
  {
   "cell_type": "code",
   "execution_count": 23,
   "metadata": {},
   "outputs": [],
   "source": [
    "# Predict the prices of the test_set\n",
    "temp = test_set.drop('price', axis=1)\n",
    "test_set['price_predicted'] = best_rf.predict(temp)"
   ]
  },
  {
   "cell_type": "code",
   "execution_count": 24,
   "metadata": {},
   "outputs": [
    {
     "data": {
      "image/png": "[encoded data removed]",
      "text/plain": [
       "<Figure size 640x480 with 1 Axes>"
      ]
     },
     "metadata": {},
     "output_type": "display_data"
    }
   ],
   "source": [
    "# create a boxplot of the predicted prices divided by the actual prices\n",
    "plt.boxplot((2**test_set['price_predicted'])/(test_set['price']), showfliers=False)\n",
    "plt.ylabel('Retthetsgrad')\n",
    "plt.title('Retthetsgrad for RF, optimalisert med GridSearch og KFold')\n",
    "plt.show()"
   ]
  },
  {
   "cell_type": "code",
   "execution_count": 25,
   "metadata": {},
   "outputs": [
    {
     "data": {
      "text/plain": [
       "{'bootstrap': False,\n",
       " 'max_depth': 20,\n",
       " 'max_features': 'sqrt',\n",
       " 'min_samples_leaf': 2,\n",
       " 'min_samples_split': 5,\n",
       " 'n_estimators': 300}"
      ]
     },
     "execution_count": 25,
     "metadata": {},
     "output_type": "execute_result"
    }
   ],
   "source": [
    "best_params"
   ]
  },
  {
   "cell_type": "code",
   "execution_count": 8,
   "metadata": {},
   "outputs": [
    {
     "data": {
      "text/plain": [
       "{'bootstrap': False,\n",
       " 'max_depth': 20,\n",
       " 'max_features': 'sqrt',\n",
       " 'min_samples_leaf': 1,\n",
       " 'min_samples_split': 10,\n",
       " 'n_estimators': 300}"
      ]
     },
     "execution_count": 8,
     "metadata": {},
     "output_type": "execute_result"
    }
   ],
   "source": [
    "best_parameters2"
   ]
  },
  {
   "cell_type": "markdown",
   "metadata": {},
   "source": [
    "### Comparing neg_mean_squared_error scores for random forest with a baseline model which always predicts the mean to confirm its validity"
   ]
  },
  {
   "cell_type": "code",
   "execution_count": 44,
   "metadata": {},
   "outputs": [],
   "source": [
    "class MeanRegressor(BaseEstimator, RegressorMixin):\n",
    "    def fit(self, X, y):\n",
    "        self.mean_ = np.mean(y)\n",
    "        return self\n",
    "\n",
    "    def predict(self, X):\n",
    "        return np.full(shape=(len(X),), fill_value=self.mean_)"
   ]
  },
  {
   "cell_type": "code",
   "execution_count": 45,
   "metadata": {},
   "outputs": [],
   "source": [
    "mean_regressor = MeanRegressor()\n",
    "scores = cross_val_score(mean_regressor, X, y, cv=5, scoring='neg_mean_squared_error')\n",
    "\n",
    "\n",
    "mse_scores = scores\n"
   ]
  },
  {
   "cell_type": "code",
   "execution_count": 46,
   "metadata": {},
   "outputs": [
    {
     "name": "stdout",
     "output_type": "stream",
     "text": [
      "Mean MSE across the folds: -0.8530395873993097\n",
      "Standard deviation of MSE across the folds: 0.13733419561568339\n"
     ]
    }
   ],
   "source": [
    "mean_mse = mse_scores.mean()\n",
    "std_mse = mse_scores.std()\n",
    "\n",
    "print(f\"Mean MSE across the folds: {mean_mse}\")\n",
    "print(f\"Standard deviation of MSE across the folds: {std_mse}\")"
   ]
  }
 ],
 "metadata": {
  "kernelspec": {
   "display_name": "Python 3",
   "language": "python",
   "name": "python3"
  },
  "language_info": {
   "codemirror_mode": {
    "name": "ipython",
    "version": 3
   },
   "file_extension": ".py",
   "mimetype": "text/x-python",
   "name": "python",
   "nbconvert_exporter": "python",
   "pygments_lexer": "ipython3",
   "version": "3.9.1"
  }
 },
 "nbformat": 4,
 "nbformat_minor": 2
}
