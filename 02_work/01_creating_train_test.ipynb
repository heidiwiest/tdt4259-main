{
 "cells": [
  {
   "cell_type": "code",
   "execution_count": 1,
   "metadata": {},
   "outputs": [],
   "source": [
    "import pandas as pd"
   ]
  },
  {
   "cell_type": "code",
   "execution_count": 2,
   "metadata": {},
   "outputs": [
    {
     "name": "stdout",
     "output_type": "stream",
     "text": [
      "35980\n"
     ]
    }
   ],
   "source": [
    "# Load the datasets\n",
    "august_df = pd.read_csv(\"../data/listings_cleaned_august.csv\")\n",
    "october_df = pd.read_csv(\"../data/listings_cleaned_october.csv\")\n",
    "\n",
    "# Extracting the IDs from both datasets\n",
    "august_ids = august_df['id']\n",
    "october_ids = october_df['id']\n",
    "\n",
    "# Finding the common IDs in both datasets\n",
    "common_ids = august_ids[august_ids.isin(october_ids)].unique()\n",
    "\n",
    "# Display the list of common IDs\n",
    "print(len(common_ids))"
   ]
  },
  {
   "cell_type": "code",
   "execution_count": 3,
   "metadata": {},
   "outputs": [
    {
     "data": {
      "text/plain": [
       "(18447, 218)"
      ]
     },
     "execution_count": 3,
     "metadata": {},
     "output_type": "execute_result"
    }
   ],
   "source": [
    "# Filter the August DataFrame for listings with minimum nights equal to 30\n",
    "august_30nights_df = august_df[august_df['minimum_nights'] == 30]\n",
    "\n",
    "# Extracting the IDs from the October dataset\n",
    "october_ids = october_df['id']\n",
    "\n",
    "# Filter out the rows with IDs that are NOT present in the October dataset\n",
    "filtered_august_df = august_30nights_df[august_30nights_df['id'].isin(october_ids)]\n",
    "\n",
    "\n",
    "filtered_august_df.to_csv(\"../data/training_set.csv\", index=False)\n",
    "filtered_august_df.shape"
   ]
  },
  {
   "cell_type": "code",
   "execution_count": 4,
   "metadata": {},
   "outputs": [
    {
     "data": {
      "text/plain": [
       "(12005, 210)"
      ]
     },
     "execution_count": 4,
     "metadata": {},
     "output_type": "execute_result"
    }
   ],
   "source": [
    "# Step 1: Filter the October dataset for listings with minimum nights equal to 30\n",
    "october_30nights_df = october_df[october_df['minimum_nights'] == 30]\n",
    "\n",
    "# Step 2: Identify listings in the August dataset with minimum nights less or equal to 10\n",
    "august_10nights_or_less_ids = august_df[august_df['minimum_nights'] <= 10]['id']\n",
    "\n",
    "# Step 3: From the filtered October dataset, exclude listings that are in the filtered_august_df\n",
    "october_exclusive_ids = october_30nights_df[~october_30nights_df['id'].isin(filtered_august_df['id'])]\n",
    "\n",
    "# Step 4: Include only those listings from the remaining October listings that had 10 or fewer minimum nights in August\n",
    "final_october_df = october_exclusive_ids[october_exclusive_ids['id'].isin(august_10nights_or_less_ids)]\n",
    "\n",
    "# Now final_october_df contains the listings from October that require a minimum of 30 nights,\n",
    "# are not present in filtered_august_df, and had 10 or fewer minimum nights in August.\n",
    "final_october_df.to_csv(\"../data/test_set.csv\", index=False)\n",
    "final_october_df.shape"
   ]
  }
 ],
 "metadata": {
  "kernelspec": {
   "display_name": "Python 3",
   "language": "python",
   "name": "python3"
  },
  "language_info": {
   "codemirror_mode": {
    "name": "ipython",
    "version": 3
   },
   "file_extension": ".py",
   "mimetype": "text/x-python",
   "name": "python",
   "nbconvert_exporter": "python",
   "pygments_lexer": "ipython3",
   "version": "3.10.11"
  }
 },
 "nbformat": 4,
 "nbformat_minor": 2
}
