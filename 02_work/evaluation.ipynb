{
 "cells": [
  {
   "cell_type": "code",
   "execution_count": 9,
   "metadata": {},
   "outputs": [],
   "source": [
    "import pandas as pd\n",
    "import numpy as np"
   ]
  },
  {
   "cell_type": "code",
   "execution_count": 25,
   "metadata": {},
   "outputs": [],
   "source": [
    "october_df = pd.read_csv(\"../data/listings_october.csv.gz\")"
   ]
  },
  {
   "cell_type": "code",
   "execution_count": 59,
   "metadata": {},
   "outputs": [
    {
     "data": {
      "text/plain": [
       "Index(['id', 'listing_url', 'scrape_id', 'last_scraped', 'source', 'name',\n",
       "       'description', 'neighborhood_overview', 'picture_url', 'host_id',\n",
       "       'host_url', 'host_name', 'host_since', 'host_location', 'host_about',\n",
       "       'host_response_time', 'host_response_rate', 'host_acceptance_rate',\n",
       "       'host_is_superhost', 'host_thumbnail_url', 'host_picture_url',\n",
       "       'host_neighbourhood', 'host_listings_count',\n",
       "       'host_total_listings_count', 'host_verifications',\n",
       "       'host_has_profile_pic', 'host_identity_verified', 'neighbourhood',\n",
       "       'neighbourhood_cleansed', 'neighbourhood_group_cleansed', 'latitude',\n",
       "       'longitude', 'property_type', 'room_type', 'accommodates', 'bathrooms',\n",
       "       'bathrooms_text', 'bedrooms', 'beds', 'amenities', 'price',\n",
       "       'minimum_nights', 'maximum_nights', 'minimum_minimum_nights',\n",
       "       'maximum_minimum_nights', 'minimum_maximum_nights',\n",
       "       'maximum_maximum_nights', 'minimum_nights_avg_ntm',\n",
       "       'maximum_nights_avg_ntm', 'calendar_updated', 'has_availability',\n",
       "       'availability_30', 'availability_60', 'availability_90',\n",
       "       'availability_365', 'calendar_last_scraped', 'number_of_reviews',\n",
       "       'number_of_reviews_ltm', 'number_of_reviews_l30d', 'first_review',\n",
       "       'last_review', 'review_scores_rating', 'review_scores_accuracy',\n",
       "       'review_scores_cleanliness', 'review_scores_checkin',\n",
       "       'review_scores_communication', 'review_scores_location',\n",
       "       'review_scores_value', 'license', 'instant_bookable',\n",
       "       'calculated_host_listings_count',\n",
       "       'calculated_host_listings_count_entire_homes',\n",
       "       'calculated_host_listings_count_private_rooms',\n",
       "       'calculated_host_listings_count_shared_rooms', 'reviews_per_month'],\n",
       "      dtype='object')"
      ]
     },
     "execution_count": 59,
     "metadata": {},
     "output_type": "execute_result"
    }
   ],
   "source": [
    "october_df.columns"
   ]
  },
  {
   "cell_type": "code",
   "execution_count": 2,
   "metadata": {},
   "outputs": [
    {
     "name": "stdout",
     "output_type": "stream",
     "text": [
      "35980\n"
     ]
    }
   ],
   "source": [
    "# Load the datasets\n",
    "august_df = pd.read_csv(\"../data/listings_cleaned_august.csv\")\n",
    "october_df = pd.read_csv(\"../data/listings_cleaned_october.csv\")\n",
    "\n",
    "# Extracting the IDs from both datasets\n",
    "august_ids = august_df['id']\n",
    "october_ids = october_df['id']\n",
    "\n",
    "# Finding the common IDs in both datasets\n",
    "common_ids = august_ids[august_ids.isin(october_ids)].unique()\n",
    "\n",
    "# Display the list of common IDs\n",
    "print(len(common_ids))"
   ]
  },
  {
   "cell_type": "markdown",
   "metadata": {},
   "source": [
    "Showing that price levels differ significantly before the regulations hit in september for short-term and medium-term hosts"
   ]
  },
  {
   "cell_type": "code",
   "execution_count": 19,
   "metadata": {},
   "outputs": [
    {
     "name": "stderr",
     "output_type": "stream",
     "text": [
      "C:\\Users\\Mikkel\\AppData\\Local\\Temp\\ipykernel_49556\\249540212.py:7: SettingWithCopyWarning: \n",
      "A value is trying to be set on a copy of a slice from a DataFrame.\n",
      "Try using .loc[row_indexer,col_indexer] = value instead\n",
      "\n",
      "See the caveats in the documentation: https://pandas.pydata.org/pandas-docs/stable/user_guide/indexing.html#returning-a-view-versus-a-copy\n",
      "  august_df_10_min_nights['price'] = august_df_10_min_nights['price'].replace('[\\$,]', '', regex=True).astype(float)\n",
      "C:\\Users\\Mikkel\\AppData\\Local\\Temp\\ipykernel_49556\\249540212.py:8: SettingWithCopyWarning: \n",
      "A value is trying to be set on a copy of a slice from a DataFrame.\n",
      "Try using .loc[row_indexer,col_indexer] = value instead\n",
      "\n",
      "See the caveats in the documentation: https://pandas.pydata.org/pandas-docs/stable/user_guide/indexing.html#returning-a-view-versus-a-copy\n",
      "  august_df_30_min_nights['price'] = august_df_30_min_nights['price'].replace('[\\$,]', '', regex=True).astype(float)\n",
      "C:\\Users\\Mikkel\\AppData\\Local\\Temp\\ipykernel_49556\\249540212.py:10: SettingWithCopyWarning: \n",
      "A value is trying to be set on a copy of a slice from a DataFrame.\n",
      "Try using .loc[row_indexer,col_indexer] = value instead\n",
      "\n",
      "See the caveats in the documentation: https://pandas.pydata.org/pandas-docs/stable/user_guide/indexing.html#returning-a-view-versus-a-copy\n",
      "  october_df_10_min_nights['price'] = october_df_10_min_nights['price'].replace('[\\$,]', '', regex=True).astype(float)\n",
      "C:\\Users\\Mikkel\\AppData\\Local\\Temp\\ipykernel_49556\\249540212.py:11: SettingWithCopyWarning: \n",
      "A value is trying to be set on a copy of a slice from a DataFrame.\n",
      "Try using .loc[row_indexer,col_indexer] = value instead\n",
      "\n",
      "See the caveats in the documentation: https://pandas.pydata.org/pandas-docs/stable/user_guide/indexing.html#returning-a-view-versus-a-copy\n",
      "  october_df_30_min_nights['price'] = october_df_30_min_nights['price'].replace('[\\$,]', '', regex=True).astype(float)\n"
     ]
    }
   ],
   "source": [
    "august_df_10_min_nights = august_df[august_df['minimum_nights'] <= 10]\n",
    "august_df_30_min_nights = august_df[august_df['minimum_nights'] == 30]\n",
    "\n",
    "october_df_10_min_nights = october_df[october_df['minimum_nights'] <= 10]\n",
    "october_df_30_min_nights = october_df[october_df['minimum_nights'] == 30]\n",
    "\n",
    "august_df_10_min_nights['price'] = august_df_10_min_nights['price'].replace('[\\$,]', '', regex=True).astype(float)\n",
    "august_df_30_min_nights['price'] = august_df_30_min_nights['price'].replace('[\\$,]', '', regex=True).astype(float)\n",
    "\n",
    "october_df_10_min_nights['price'] = october_df_10_min_nights['price'].replace('[\\$,]', '', regex=True).astype(float)\n",
    "october_df_30_min_nights['price'] = october_df_30_min_nights['price'].replace('[\\$,]', '', regex=True).astype(float)"
   ]
  },
  {
   "cell_type": "code",
   "execution_count": 60,
   "metadata": {},
   "outputs": [
    {
     "data": {
      "text/plain": [
       "159.0"
      ]
     },
     "execution_count": 60,
     "metadata": {},
     "output_type": "execute_result"
    }
   ],
   "source": [
    "np.median(august_df_10_min_nights[\"price\"])\n"
   ]
  },
  {
   "cell_type": "code",
   "execution_count": 61,
   "metadata": {},
   "outputs": [
    {
     "data": {
      "text/plain": [
       "114.0"
      ]
     },
     "execution_count": 61,
     "metadata": {},
     "output_type": "execute_result"
    }
   ],
   "source": [
    "np.median(august_df_30_min_nights[\"price\"])"
   ]
  },
  {
   "cell_type": "markdown",
   "metadata": {},
   "source": [
    "Showing the stubborness in short-term hosts to adjust prices, inspiring the need for feature importance"
   ]
  },
  {
   "cell_type": "code",
   "execution_count": 48,
   "metadata": {},
   "outputs": [],
   "source": [
    "str_list = august_df_10_min_nights[\"id\"]"
   ]
  },
  {
   "cell_type": "code",
   "execution_count": 49,
   "metadata": {},
   "outputs": [
    {
     "name": "stderr",
     "output_type": "stream",
     "text": [
      "C:\\Users\\Mikkel\\AppData\\Local\\Temp\\ipykernel_49556\\655029050.py:1: DtypeWarning: Columns (68) have mixed types. Specify dtype option on import or set low_memory=False.\n",
      "  november2022_df = pd.read_csv(\"../data/listings_november2022.csv.gz\")\n"
     ]
    }
   ],
   "source": [
    "november2022_df = pd.read_csv(\"../data/listings_november2022.csv.gz\")"
   ]
  },
  {
   "cell_type": "code",
   "execution_count": 50,
   "metadata": {},
   "outputs": [
    {
     "name": "stderr",
     "output_type": "stream",
     "text": [
      "C:\\Users\\Mikkel\\AppData\\Local\\Temp\\ipykernel_49556\\3498321000.py:4: SettingWithCopyWarning: \n",
      "A value is trying to be set on a copy of a slice from a DataFrame.\n",
      "Try using .loc[row_indexer,col_indexer] = value instead\n",
      "\n",
      "See the caveats in the documentation: https://pandas.pydata.org/pandas-docs/stable/user_guide/indexing.html#returning-a-view-versus-a-copy\n",
      "  november2022_df_10_min_nights['price'] = november2022_df_10_min_nights['price'].replace('[\\$,]', '', regex=True).astype(float)\n"
     ]
    }
   ],
   "source": [
    "november2022_df_10_min_nights = november2022_df[november2022_df['minimum_nights'] <= 10]\n",
    "\n",
    "\n",
    "november2022_df_10_min_nights['price'] = november2022_df_10_min_nights['price'].replace('[\\$,]', '', regex=True).astype(float)"
   ]
  },
  {
   "cell_type": "code",
   "execution_count": 51,
   "metadata": {},
   "outputs": [],
   "source": [
    "filtered_october_30_day = october_df_30_min_nights[october_df_30_min_nights['id'].isin(str_list)]\n"
   ]
  },
  {
   "cell_type": "code",
   "execution_count": 52,
   "metadata": {},
   "outputs": [
    {
     "data": {
      "text/html": [
       "<div>\n",
       "<style scoped>\n",
       "    .dataframe tbody tr th:only-of-type {\n",
       "        vertical-align: middle;\n",
       "    }\n",
       "\n",
       "    .dataframe tbody tr th {\n",
       "        vertical-align: top;\n",
       "    }\n",
       "\n",
       "    .dataframe thead th {\n",
       "        text-align: right;\n",
       "    }\n",
       "</style>\n",
       "<table border=\"1\" class=\"dataframe\">\n",
       "  <thead>\n",
       "    <tr style=\"text-align: right;\">\n",
       "      <th></th>\n",
       "      <th>id</th>\n",
       "      <th>name</th>\n",
       "      <th>host_id</th>\n",
       "      <th>host_since</th>\n",
       "      <th>host_is_superhost</th>\n",
       "      <th>host_listings_count</th>\n",
       "      <th>host_total_listings_count</th>\n",
       "      <th>host_has_profile_pic</th>\n",
       "      <th>host_identity_verified</th>\n",
       "      <th>neighbourhood_cleansed</th>\n",
       "      <th>...</th>\n",
       "      <th>has_garage</th>\n",
       "      <th>has_hbo</th>\n",
       "      <th>has_pool</th>\n",
       "      <th>has_barbecue</th>\n",
       "      <th>has_tub</th>\n",
       "      <th>has_disney</th>\n",
       "      <th>has_bluetooth</th>\n",
       "      <th>has_wardrobe</th>\n",
       "      <th>imputed_review_score</th>\n",
       "      <th>distance_to_closest_subway</th>\n",
       "    </tr>\n",
       "  </thead>\n",
       "  <tbody>\n",
       "    <tr>\n",
       "      <th>4</th>\n",
       "      <td>22280002</td>\n",
       "      <td>Rental unit in Brooklyn · ★4.98 · 1 bedroom · ...</td>\n",
       "      <td>67373899</td>\n",
       "      <td>2016-04-15</td>\n",
       "      <td>1</td>\n",
       "      <td>1.0</td>\n",
       "      <td>1.0</td>\n",
       "      <td>1</td>\n",
       "      <td>1</td>\n",
       "      <td>Bedford-Stuyvesant</td>\n",
       "      <td>...</td>\n",
       "      <td>1</td>\n",
       "      <td>0</td>\n",
       "      <td>0</td>\n",
       "      <td>0</td>\n",
       "      <td>0</td>\n",
       "      <td>0</td>\n",
       "      <td>0</td>\n",
       "      <td>0</td>\n",
       "      <td>0</td>\n",
       "      <td>0.291050</td>\n",
       "    </tr>\n",
       "    <tr>\n",
       "      <th>11</th>\n",
       "      <td>779600270049151163</td>\n",
       "      <td>Home in Queens · ★4.97 · 5 bedrooms · 7 beds ·...</td>\n",
       "      <td>49654304</td>\n",
       "      <td>2015-11-22</td>\n",
       "      <td>1</td>\n",
       "      <td>1.0</td>\n",
       "      <td>1.0</td>\n",
       "      <td>1</td>\n",
       "      <td>1</td>\n",
       "      <td>Bayside</td>\n",
       "      <td>...</td>\n",
       "      <td>0</td>\n",
       "      <td>0</td>\n",
       "      <td>0</td>\n",
       "      <td>0</td>\n",
       "      <td>1</td>\n",
       "      <td>0</td>\n",
       "      <td>0</td>\n",
       "      <td>0</td>\n",
       "      <td>0</td>\n",
       "      <td>5.340315</td>\n",
       "    </tr>\n",
       "    <tr>\n",
       "      <th>12</th>\n",
       "      <td>35430378</td>\n",
       "      <td>Home in Laurelton , Queens  · ★4.70 · 1 bedroo...</td>\n",
       "      <td>266645207</td>\n",
       "      <td>2019-06-05</td>\n",
       "      <td>0</td>\n",
       "      <td>2.0</td>\n",
       "      <td>5.0</td>\n",
       "      <td>1</td>\n",
       "      <td>0</td>\n",
       "      <td>Springfield Gardens</td>\n",
       "      <td>...</td>\n",
       "      <td>0</td>\n",
       "      <td>0</td>\n",
       "      <td>0</td>\n",
       "      <td>0</td>\n",
       "      <td>0</td>\n",
       "      <td>0</td>\n",
       "      <td>0</td>\n",
       "      <td>0</td>\n",
       "      <td>0</td>\n",
       "      <td>6.226829</td>\n",
       "    </tr>\n",
       "    <tr>\n",
       "      <th>26</th>\n",
       "      <td>9116734</td>\n",
       "      <td>Rental unit in Brooklyn · ★4.67 · 1 bedroom · ...</td>\n",
       "      <td>20318052</td>\n",
       "      <td>2014-08-20</td>\n",
       "      <td>1</td>\n",
       "      <td>1.0</td>\n",
       "      <td>2.0</td>\n",
       "      <td>1</td>\n",
       "      <td>0</td>\n",
       "      <td>Bedford-Stuyvesant</td>\n",
       "      <td>...</td>\n",
       "      <td>0</td>\n",
       "      <td>0</td>\n",
       "      <td>0</td>\n",
       "      <td>0</td>\n",
       "      <td>1</td>\n",
       "      <td>0</td>\n",
       "      <td>0</td>\n",
       "      <td>0</td>\n",
       "      <td>0</td>\n",
       "      <td>0.188756</td>\n",
       "    </tr>\n",
       "    <tr>\n",
       "      <th>27</th>\n",
       "      <td>702846702148318693</td>\n",
       "      <td>Rental unit in The Bronx · ★4.91 · 3 bedrooms ...</td>\n",
       "      <td>66394132</td>\n",
       "      <td>2016-04-08</td>\n",
       "      <td>1</td>\n",
       "      <td>1.0</td>\n",
       "      <td>1.0</td>\n",
       "      <td>1</td>\n",
       "      <td>1</td>\n",
       "      <td>North Riverdale</td>\n",
       "      <td>...</td>\n",
       "      <td>0</td>\n",
       "      <td>0</td>\n",
       "      <td>0</td>\n",
       "      <td>0</td>\n",
       "      <td>1</td>\n",
       "      <td>0</td>\n",
       "      <td>0</td>\n",
       "      <td>0</td>\n",
       "      <td>0</td>\n",
       "      <td>1.616198</td>\n",
       "    </tr>\n",
       "    <tr>\n",
       "      <th>...</th>\n",
       "      <td>...</td>\n",
       "      <td>...</td>\n",
       "      <td>...</td>\n",
       "      <td>...</td>\n",
       "      <td>...</td>\n",
       "      <td>...</td>\n",
       "      <td>...</td>\n",
       "      <td>...</td>\n",
       "      <td>...</td>\n",
       "      <td>...</td>\n",
       "      <td>...</td>\n",
       "      <td>...</td>\n",
       "      <td>...</td>\n",
       "      <td>...</td>\n",
       "      <td>...</td>\n",
       "      <td>...</td>\n",
       "      <td>...</td>\n",
       "      <td>...</td>\n",
       "      <td>...</td>\n",
       "      <td>...</td>\n",
       "      <td>...</td>\n",
       "    </tr>\n",
       "    <tr>\n",
       "      <th>38710</th>\n",
       "      <td>30686973</td>\n",
       "      <td>Guest suite in New York · ★4.97 · 1 bedroom · ...</td>\n",
       "      <td>229695499</td>\n",
       "      <td>2018-12-08</td>\n",
       "      <td>1</td>\n",
       "      <td>1.0</td>\n",
       "      <td>2.0</td>\n",
       "      <td>1</td>\n",
       "      <td>1</td>\n",
       "      <td>Lower East Side</td>\n",
       "      <td>...</td>\n",
       "      <td>0</td>\n",
       "      <td>0</td>\n",
       "      <td>0</td>\n",
       "      <td>0</td>\n",
       "      <td>0</td>\n",
       "      <td>0</td>\n",
       "      <td>0</td>\n",
       "      <td>0</td>\n",
       "      <td>0</td>\n",
       "      <td>0.359515</td>\n",
       "    </tr>\n",
       "    <tr>\n",
       "      <th>38778</th>\n",
       "      <td>736191441598456999</td>\n",
       "      <td>Rental unit in New York · 1 bedroom · 1 bed · ...</td>\n",
       "      <td>131086736</td>\n",
       "      <td>2017-05-19</td>\n",
       "      <td>0</td>\n",
       "      <td>1.0</td>\n",
       "      <td>1.0</td>\n",
       "      <td>1</td>\n",
       "      <td>1</td>\n",
       "      <td>Upper West Side</td>\n",
       "      <td>...</td>\n",
       "      <td>0</td>\n",
       "      <td>0</td>\n",
       "      <td>0</td>\n",
       "      <td>0</td>\n",
       "      <td>1</td>\n",
       "      <td>0</td>\n",
       "      <td>0</td>\n",
       "      <td>0</td>\n",
       "      <td>1</td>\n",
       "      <td>0.324942</td>\n",
       "    </tr>\n",
       "    <tr>\n",
       "      <th>38780</th>\n",
       "      <td>148825</td>\n",
       "      <td>Rental unit in New York · ★4.75 · 2 bedrooms ·...</td>\n",
       "      <td>718349</td>\n",
       "      <td>2011-06-19</td>\n",
       "      <td>1</td>\n",
       "      <td>5.0</td>\n",
       "      <td>6.0</td>\n",
       "      <td>1</td>\n",
       "      <td>1</td>\n",
       "      <td>Upper West Side</td>\n",
       "      <td>...</td>\n",
       "      <td>0</td>\n",
       "      <td>0</td>\n",
       "      <td>0</td>\n",
       "      <td>0</td>\n",
       "      <td>0</td>\n",
       "      <td>0</td>\n",
       "      <td>0</td>\n",
       "      <td>0</td>\n",
       "      <td>0</td>\n",
       "      <td>0.425113</td>\n",
       "    </tr>\n",
       "    <tr>\n",
       "      <th>38781</th>\n",
       "      <td>465706</td>\n",
       "      <td>Rental unit in New York · ★4.67 · 1 bedroom · ...</td>\n",
       "      <td>718349</td>\n",
       "      <td>2011-06-19</td>\n",
       "      <td>1</td>\n",
       "      <td>5.0</td>\n",
       "      <td>6.0</td>\n",
       "      <td>1</td>\n",
       "      <td>1</td>\n",
       "      <td>Upper West Side</td>\n",
       "      <td>...</td>\n",
       "      <td>0</td>\n",
       "      <td>0</td>\n",
       "      <td>0</td>\n",
       "      <td>0</td>\n",
       "      <td>0</td>\n",
       "      <td>0</td>\n",
       "      <td>0</td>\n",
       "      <td>0</td>\n",
       "      <td>0</td>\n",
       "      <td>0.350730</td>\n",
       "    </tr>\n",
       "    <tr>\n",
       "      <th>38782</th>\n",
       "      <td>27697402</td>\n",
       "      <td>Rental unit in Brooklyn · ★4.78 · 1 bedroom · ...</td>\n",
       "      <td>21020951</td>\n",
       "      <td>2014-09-06</td>\n",
       "      <td>1</td>\n",
       "      <td>1.0</td>\n",
       "      <td>6.0</td>\n",
       "      <td>1</td>\n",
       "      <td>1</td>\n",
       "      <td>Bedford-Stuyvesant</td>\n",
       "      <td>...</td>\n",
       "      <td>0</td>\n",
       "      <td>0</td>\n",
       "      <td>0</td>\n",
       "      <td>0</td>\n",
       "      <td>0</td>\n",
       "      <td>0</td>\n",
       "      <td>0</td>\n",
       "      <td>0</td>\n",
       "      <td>0</td>\n",
       "      <td>0.330622</td>\n",
       "    </tr>\n",
       "  </tbody>\n",
       "</table>\n",
       "<p>12005 rows × 211 columns</p>\n",
       "</div>"
      ],
      "text/plain": [
       "                       id                                               name  \\\n",
       "4                22280002  Rental unit in Brooklyn · ★4.98 · 1 bedroom · ...   \n",
       "11     779600270049151163  Home in Queens · ★4.97 · 5 bedrooms · 7 beds ·...   \n",
       "12               35430378  Home in Laurelton , Queens  · ★4.70 · 1 bedroo...   \n",
       "26                9116734  Rental unit in Brooklyn · ★4.67 · 1 bedroom · ...   \n",
       "27     702846702148318693  Rental unit in The Bronx · ★4.91 · 3 bedrooms ...   \n",
       "...                   ...                                                ...   \n",
       "38710            30686973  Guest suite in New York · ★4.97 · 1 bedroom · ...   \n",
       "38778  736191441598456999  Rental unit in New York · 1 bedroom · 1 bed · ...   \n",
       "38780              148825  Rental unit in New York · ★4.75 · 2 bedrooms ·...   \n",
       "38781              465706  Rental unit in New York · ★4.67 · 1 bedroom · ...   \n",
       "38782            27697402  Rental unit in Brooklyn · ★4.78 · 1 bedroom · ...   \n",
       "\n",
       "         host_id  host_since  host_is_superhost  host_listings_count  \\\n",
       "4       67373899  2016-04-15                  1                  1.0   \n",
       "11      49654304  2015-11-22                  1                  1.0   \n",
       "12     266645207  2019-06-05                  0                  2.0   \n",
       "26      20318052  2014-08-20                  1                  1.0   \n",
       "27      66394132  2016-04-08                  1                  1.0   \n",
       "...          ...         ...                ...                  ...   \n",
       "38710  229695499  2018-12-08                  1                  1.0   \n",
       "38778  131086736  2017-05-19                  0                  1.0   \n",
       "38780     718349  2011-06-19                  1                  5.0   \n",
       "38781     718349  2011-06-19                  1                  5.0   \n",
       "38782   21020951  2014-09-06                  1                  1.0   \n",
       "\n",
       "       host_total_listings_count  host_has_profile_pic  \\\n",
       "4                            1.0                     1   \n",
       "11                           1.0                     1   \n",
       "12                           5.0                     1   \n",
       "26                           2.0                     1   \n",
       "27                           1.0                     1   \n",
       "...                          ...                   ...   \n",
       "38710                        2.0                     1   \n",
       "38778                        1.0                     1   \n",
       "38780                        6.0                     1   \n",
       "38781                        6.0                     1   \n",
       "38782                        6.0                     1   \n",
       "\n",
       "       host_identity_verified neighbourhood_cleansed  ... has_garage  has_hbo  \\\n",
       "4                           1     Bedford-Stuyvesant  ...          1        0   \n",
       "11                          1                Bayside  ...          0        0   \n",
       "12                          0    Springfield Gardens  ...          0        0   \n",
       "26                          0     Bedford-Stuyvesant  ...          0        0   \n",
       "27                          1        North Riverdale  ...          0        0   \n",
       "...                       ...                    ...  ...        ...      ...   \n",
       "38710                       1        Lower East Side  ...          0        0   \n",
       "38778                       1        Upper West Side  ...          0        0   \n",
       "38780                       1        Upper West Side  ...          0        0   \n",
       "38781                       1        Upper West Side  ...          0        0   \n",
       "38782                       1     Bedford-Stuyvesant  ...          0        0   \n",
       "\n",
       "       has_pool has_barbecue has_tub  has_disney  has_bluetooth  has_wardrobe  \\\n",
       "4             0            0       0           0              0             0   \n",
       "11            0            0       1           0              0             0   \n",
       "12            0            0       0           0              0             0   \n",
       "26            0            0       1           0              0             0   \n",
       "27            0            0       1           0              0             0   \n",
       "...         ...          ...     ...         ...            ...           ...   \n",
       "38710         0            0       0           0              0             0   \n",
       "38778         0            0       1           0              0             0   \n",
       "38780         0            0       0           0              0             0   \n",
       "38781         0            0       0           0              0             0   \n",
       "38782         0            0       0           0              0             0   \n",
       "\n",
       "       imputed_review_score  distance_to_closest_subway  \n",
       "4                         0                    0.291050  \n",
       "11                        0                    5.340315  \n",
       "12                        0                    6.226829  \n",
       "26                        0                    0.188756  \n",
       "27                        0                    1.616198  \n",
       "...                     ...                         ...  \n",
       "38710                     0                    0.359515  \n",
       "38778                     1                    0.324942  \n",
       "38780                     0                    0.425113  \n",
       "38781                     0                    0.350730  \n",
       "38782                     0                    0.330622  \n",
       "\n",
       "[12005 rows x 211 columns]"
      ]
     },
     "execution_count": 52,
     "metadata": {},
     "output_type": "execute_result"
    }
   ],
   "source": [
    "filtered_october_30_day"
   ]
  },
  {
   "cell_type": "code",
   "execution_count": 63,
   "metadata": {},
   "outputs": [
    {
     "data": {
      "text/plain": [
       "146.0"
      ]
     },
     "execution_count": 63,
     "metadata": {},
     "output_type": "execute_result"
    }
   ],
   "source": [
    "np.median(filtered_october_30_day[\"price\"])"
   ]
  },
  {
   "cell_type": "code",
   "execution_count": 54,
   "metadata": {},
   "outputs": [
    {
     "data": {
      "text/plain": [
       "Index(['id', 'name', 'host_id', 'host_since', 'host_is_superhost',\n",
       "       'host_listings_count', 'host_total_listings_count',\n",
       "       'host_has_profile_pic', 'host_identity_verified',\n",
       "       'neighbourhood_cleansed',\n",
       "       ...\n",
       "       'has_trash', 'has_compactor', 'has_garden', 'has_beach', 'has_old',\n",
       "       'has_years', 'has_babysitter', 'has_recommendations',\n",
       "       'imputed_review_score', 'distance_to_closest_subway'],\n",
       "      dtype='object', length=219)"
      ]
     },
     "execution_count": 54,
     "metadata": {},
     "output_type": "execute_result"
    }
   ],
   "source": [
    "august_df_10_min_nights.columns"
   ]
  },
  {
   "cell_type": "code",
   "execution_count": 64,
   "metadata": {},
   "outputs": [
    {
     "data": {
      "text/plain": [
       "125.0"
      ]
     },
     "execution_count": 64,
     "metadata": {},
     "output_type": "execute_result"
    }
   ],
   "source": [
    "np.median(october_df_30_min_nights['price'])"
   ]
  },
  {
   "cell_type": "code",
   "execution_count": null,
   "metadata": {},
   "outputs": [],
   "source": []
  }
 ],
 "metadata": {
  "kernelspec": {
   "display_name": "Python 3",
   "language": "python",
   "name": "python3"
  },
  "language_info": {
   "codemirror_mode": {
    "name": "ipython",
    "version": 3
   },
   "file_extension": ".py",
   "mimetype": "text/x-python",
   "name": "python",
   "nbconvert_exporter": "python",
   "pygments_lexer": "ipython3",
   "version": "3.9.1"
  }
 },
 "nbformat": 4,
 "nbformat_minor": 2
}
