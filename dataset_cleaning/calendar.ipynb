{
 "cells": [
  {
   "cell_type": "code",
   "execution_count": 2,
   "metadata": {},
   "outputs": [],
   "source": [
    "import pandas as pd\n",
    "import gzip\n",
    "import matplotlib.pyplot as plt\n",
    "import seaborn as sns\n",
    "from tabulate import tabulate"
   ]
  },
  {
   "cell_type": "code",
   "execution_count": 3,
   "metadata": {},
   "outputs": [],
   "source": [
    "file_path = '../data/calendar.csv.gz'\n",
    "\n",
    "with gzip.open(file_path, 'rt', encoding='utf-8') as file:\n",
    "        df = pd.read_csv(file)\n",
    "\n",
    "\n",
    "listings = pd.read_csv(\"../data/listings_cleaned.csv\")"
   ]
  },
  {
   "cell_type": "code",
   "execution_count": 4,
   "metadata": {},
   "outputs": [
    {
     "data": {
      "text/html": [
       "<div>\n",
       "<style scoped>\n",
       "    .dataframe tbody tr th:only-of-type {\n",
       "        vertical-align: middle;\n",
       "    }\n",
       "\n",
       "    .dataframe tbody tr th {\n",
       "        vertical-align: top;\n",
       "    }\n",
       "\n",
       "    .dataframe thead th {\n",
       "        text-align: right;\n",
       "    }\n",
       "</style>\n",
       "<table border=\"1\" class=\"dataframe\">\n",
       "  <thead>\n",
       "    <tr style=\"text-align: right;\">\n",
       "      <th></th>\n",
       "      <th>listing_id</th>\n",
       "      <th>date</th>\n",
       "      <th>available</th>\n",
       "      <th>price</th>\n",
       "      <th>adjusted_price</th>\n",
       "      <th>minimum_nights</th>\n",
       "      <th>maximum_nights</th>\n",
       "    </tr>\n",
       "  </thead>\n",
       "  <tbody>\n",
       "    <tr>\n",
       "      <th>0</th>\n",
       "      <td>2595</td>\n",
       "      <td>2023-10-02</td>\n",
       "      <td>f</td>\n",
       "      <td>$240.00</td>\n",
       "      <td>$240.00</td>\n",
       "      <td>30.0</td>\n",
       "      <td>1125.0</td>\n",
       "    </tr>\n",
       "    <tr>\n",
       "      <th>1</th>\n",
       "      <td>2595</td>\n",
       "      <td>2023-10-03</td>\n",
       "      <td>f</td>\n",
       "      <td>$240.00</td>\n",
       "      <td>$240.00</td>\n",
       "      <td>30.0</td>\n",
       "      <td>1125.0</td>\n",
       "    </tr>\n",
       "    <tr>\n",
       "      <th>2</th>\n",
       "      <td>2595</td>\n",
       "      <td>2023-10-04</td>\n",
       "      <td>f</td>\n",
       "      <td>$240.00</td>\n",
       "      <td>$240.00</td>\n",
       "      <td>30.0</td>\n",
       "      <td>1125.0</td>\n",
       "    </tr>\n",
       "    <tr>\n",
       "      <th>3</th>\n",
       "      <td>2595</td>\n",
       "      <td>2023-10-05</td>\n",
       "      <td>f</td>\n",
       "      <td>$240.00</td>\n",
       "      <td>$240.00</td>\n",
       "      <td>30.0</td>\n",
       "      <td>1125.0</td>\n",
       "    </tr>\n",
       "    <tr>\n",
       "      <th>4</th>\n",
       "      <td>2595</td>\n",
       "      <td>2023-10-06</td>\n",
       "      <td>f</td>\n",
       "      <td>$240.00</td>\n",
       "      <td>$240.00</td>\n",
       "      <td>30.0</td>\n",
       "      <td>1125.0</td>\n",
       "    </tr>\n",
       "  </tbody>\n",
       "</table>\n",
       "</div>"
      ],
      "text/plain": [
       "   listing_id        date available    price adjusted_price  minimum_nights  \\\n",
       "0        2595  2023-10-02         f  $240.00        $240.00            30.0   \n",
       "1        2595  2023-10-03         f  $240.00        $240.00            30.0   \n",
       "2        2595  2023-10-04         f  $240.00        $240.00            30.0   \n",
       "3        2595  2023-10-05         f  $240.00        $240.00            30.0   \n",
       "4        2595  2023-10-06         f  $240.00        $240.00            30.0   \n",
       "\n",
       "   maximum_nights  \n",
       "0          1125.0  \n",
       "1          1125.0  \n",
       "2          1125.0  \n",
       "3          1125.0  \n",
       "4          1125.0  "
      ]
     },
     "execution_count": 4,
     "metadata": {},
     "output_type": "execute_result"
    }
   ],
   "source": [
    "df.head()"
   ]
  },
  {
   "cell_type": "code",
   "execution_count": 5,
   "metadata": {},
   "outputs": [
    {
     "data": {
      "text/plain": [
       "366"
      ]
     },
     "execution_count": 5,
     "metadata": {},
     "output_type": "execute_result"
    }
   ],
   "source": [
    "df['date'].nunique()"
   ]
  },
  {
   "cell_type": "code",
   "execution_count": 6,
   "metadata": {},
   "outputs": [],
   "source": [
    "df['available'] = df['available'].replace({'f': 0, 't': 1})"
   ]
  },
  {
   "cell_type": "code",
   "execution_count": 7,
   "metadata": {},
   "outputs": [
    {
     "name": "stdout",
     "output_type": "stream",
     "text": [
      "The number of rows where price and adjusted_price are different is: 295075 of 14159104\n"
     ]
    }
   ],
   "source": [
    "# Create a mask of where 'price' and 'adjusted_price' are different\n",
    "mask = df['price'] != df['adjusted_price']\n",
    "\n",
    "# Count the number of True values in the mask, which correspond to rows where the values are different\n",
    "number_of_different_rows = mask.sum()\n",
    "\n",
    "print(f'The number of rows where price and adjusted_price are different is: {number_of_different_rows} of {len(df)}')"
   ]
  },
  {
   "cell_type": "code",
   "execution_count": 8,
   "metadata": {},
   "outputs": [],
   "source": [
    "# Remove the dollar sign and convert the price column to float\n",
    "df['price'] = df['price'].replace('[\\$,]', '', regex=True).astype(float)"
   ]
  },
  {
   "cell_type": "code",
   "execution_count": 9,
   "metadata": {},
   "outputs": [],
   "source": [
    "# Remove the dollar sign and convert the price column to float\n",
    "df['adjusted_price'] = df['adjusted_price'].replace('[\\$,]', '', regex=True).astype(float)"
   ]
  },
  {
   "cell_type": "code",
   "execution_count": 10,
   "metadata": {},
   "outputs": [
    {
     "name": "stdout",
     "output_type": "stream",
     "text": [
      "The maximum difference between \"price\" and \"adjusted_price\" is: 1500.0\n"
     ]
    }
   ],
   "source": [
    "# Calculate the absolute difference between 'price' and 'adjusted_price'\n",
    "difference = (df['price'] - df['adjusted_price']).abs()\n",
    "\n",
    "# Find the maximum difference\n",
    "max_difference = difference.max()\n",
    "\n",
    "print(f'The maximum difference between \"price\" and \"adjusted_price\" is: {max_difference}')"
   ]
  },
  {
   "cell_type": "code",
   "execution_count": 25,
   "metadata": {},
   "outputs": [
    {
     "data": {
      "image/png": "[encoded data removed]",
      "text/plain": [
       "<Figure size 1000x600 with 1 Axes>"
      ]
     },
     "metadata": {},
     "output_type": "display_data"
    }
   ],
   "source": [
    "# Calculate the absolute difference between 'price' and 'adjusted_price'\n",
    "df['price_difference'] = (df['price'] - df['adjusted_price']).abs()\n",
    "\n",
    "# Group by 'listing_id' and get the maximum price difference for each\n",
    "max_diff_per_listing = df.groupby('listing_id')['price_difference'].max().reset_index()\n",
    "\n",
    "# Remove listings with no difference\n",
    "max_diff_per_listing = max_diff_per_listing[max_diff_per_listing['price_difference'] != 0]\n",
    "\n",
    "# Now plot the distribution of max price differences\n",
    "plt.figure(figsize=(10, 6))\n",
    "plt.hist(max_diff_per_listing['price_difference'], bins=50, alpha=0.7)\n",
    "plt.title('Distribution of Maximum Price Deviations by Listing ID')\n",
    "plt.xlabel('Maximum Price Deviation')\n",
    "plt.ylabel('Number of Listings')\n",
    "plt.grid(True)\n",
    "plt.show()"
   ]
  },
  {
   "cell_type": "code",
   "execution_count": 11,
   "metadata": {},
   "outputs": [
    {
     "name": "stdout",
     "output_type": "stream",
     "text": [
      "The number of listing_ids with non-uniform minimum_nights is: 2051\n"
     ]
    }
   ],
   "source": [
    "# Group the DataFrame by 'listing_id' and check if 'minimum_nights' has more than one unique value\n",
    "grouped = df.groupby('listing_id')['minimum_nights'].nunique()\n",
    "\n",
    "# 'grouped' will be a Series where the index is 'listing_id' and the value is the number of unique 'minimum_nights'\n",
    "# We are interested in listing_ids where this count is greater than 1, which means there are different 'minimum_nights'\n",
    "listing_ids_with_different_minimum_nights = grouped[grouped > 1]\n",
    "\n",
    "# The number of listing_ids with different 'minimum_nights'\n",
    "number_of_listing_ids = len(listing_ids_with_different_minimum_nights)\n",
    "\n",
    "print(f'The number of listing_ids with non-uniform minimum_nights is: {number_of_listing_ids}')"
   ]
  },
  {
   "cell_type": "code",
   "execution_count": 12,
   "metadata": {},
   "outputs": [
    {
     "name": "stdout",
     "output_type": "stream",
     "text": [
      "The maximum change in minimum_nights across all listing_ids is: 969.0\n",
      "The listing_id with the maximum change in minimum_nights is: 37812226\n"
     ]
    }
   ],
   "source": [
    "# Group the DataFrame by 'listing_id' and calculate the range of 'minimum_nights' for each group\n",
    "grouped = df.groupby('listing_id')['minimum_nights'].agg(lambda x: x.max() - x.min())\n",
    "\n",
    "# Filter out 'listing_id's that have no change in 'minimum_nights'\n",
    "changed_listings = grouped[grouped > 0]\n",
    "\n",
    "# Find the maximum change in 'minimum_nights'\n",
    "max_change = changed_listings.max()\n",
    "\n",
    "# Optional: Get the 'listing_id' with the maximum change in 'minimum_nights'\n",
    "listing_with_max_change = changed_listings.idxmax()\n",
    "\n",
    "print(f'The maximum change in minimum_nights across all listing_ids is: {max_change}')\n",
    "print(f'The listing_id with the maximum change in minimum_nights is: {listing_with_max_change}')"
   ]
  },
  {
   "cell_type": "code",
   "execution_count": 13,
   "metadata": {},
   "outputs": [
    {
     "name": "stdout",
     "output_type": "stream",
     "text": [
      "                     min    max\n",
      "listing_id                     \n",
      "37812226            30.0  999.0\n",
      "40571315            30.0  999.0\n",
      "39970059            30.0  999.0\n",
      "771020423813768188  30.0  500.0\n",
      "54344780            30.0  500.0\n",
      "...                  ...    ...\n",
      "693388387787638582   2.0    3.0\n",
      "37082885             1.0    2.0\n",
      "36581537             1.0    2.0\n",
      "35901159             1.0    2.0\n",
      "49046672             1.0    2.0\n",
      "\n",
      "[2051 rows x 2 columns]\n"
     ]
    }
   ],
   "source": [
    "# Group the DataFrame by 'listing_id' and aggregate the min and max of 'minimum_nights'\n",
    "grouped = df.groupby('listing_id')['minimum_nights'].agg(['min', 'max'])\n",
    "\n",
    "# Calculate the range of change\n",
    "grouped['change'] = grouped['max'] - grouped['min']\n",
    "\n",
    "# Filter to only include those listings with changes in 'minimum_nights'\n",
    "changed_listings = grouped[grouped['change'] > 0]\n",
    "\n",
    "# Sort the DataFrame by the 'change' column in descending order to see the largest changes first\n",
    "changed_listings_sorted = changed_listings.sort_values(by='change', ascending=False)\n",
    "\n",
    "# You may choose to drop the 'change' column if you only need to see the min and max values\n",
    "changed_listings_sorted = changed_listings_sorted.drop(columns='change')\n",
    "\n",
    "print(changed_listings_sorted)"
   ]
  },
  {
   "cell_type": "code",
   "execution_count": 14,
   "metadata": {},
   "outputs": [],
   "source": [
    "# Group the DataFrame by 'listing_id' and sum the 'available' column\n",
    "availability_counts = df.groupby('listing_id')['available'].sum()\n",
    "\n",
    "# Convert the Series back to a DataFrame, if you want to work with it as a DataFrame\n",
    "availability_counts_df = availability_counts.reset_index()\n",
    "\n",
    "# Rename the columns to be more descriptive\n",
    "availability_counts_df.columns = ['listing_id', 'availability_sum']"
   ]
  },
  {
   "cell_type": "code",
   "execution_count": 15,
   "metadata": {},
   "outputs": [],
   "source": [
    "# Merge the dataframes on 'id' from 'listings' and 'listing_id' from 'df'\n",
    "merged_df = listings.merge(availability_counts_df, left_on='id', right_on='listing_id', how='left')"
   ]
  },
  {
   "cell_type": "code",
   "execution_count": 16,
   "metadata": {},
   "outputs": [
    {
     "data": {
      "text/html": [
       "<div>\n",
       "<style scoped>\n",
       "    .dataframe tbody tr th:only-of-type {\n",
       "        vertical-align: middle;\n",
       "    }\n",
       "\n",
       "    .dataframe tbody tr th {\n",
       "        vertical-align: top;\n",
       "    }\n",
       "\n",
       "    .dataframe thead th {\n",
       "        text-align: right;\n",
       "    }\n",
       "</style>\n",
       "<table border=\"1\" class=\"dataframe\">\n",
       "  <thead>\n",
       "    <tr style=\"text-align: right;\">\n",
       "      <th></th>\n",
       "      <th>id</th>\n",
       "      <th>availability_365</th>\n",
       "      <th>listing_id</th>\n",
       "      <th>availability_sum</th>\n",
       "    </tr>\n",
       "  </thead>\n",
       "  <tbody>\n",
       "    <tr>\n",
       "      <th>0</th>\n",
       "      <td>9630344</td>\n",
       "      <td>364</td>\n",
       "      <td>9630344</td>\n",
       "      <td>364</td>\n",
       "    </tr>\n",
       "    <tr>\n",
       "      <th>1</th>\n",
       "      <td>3533741</td>\n",
       "      <td>0</td>\n",
       "      <td>3533741</td>\n",
       "      <td>0</td>\n",
       "    </tr>\n",
       "    <tr>\n",
       "      <th>2</th>\n",
       "      <td>9731039</td>\n",
       "      <td>0</td>\n",
       "      <td>9731039</td>\n",
       "      <td>0</td>\n",
       "    </tr>\n",
       "    <tr>\n",
       "      <th>3</th>\n",
       "      <td>21736164</td>\n",
       "      <td>0</td>\n",
       "      <td>21736164</td>\n",
       "      <td>0</td>\n",
       "    </tr>\n",
       "    <tr>\n",
       "      <th>4</th>\n",
       "      <td>22280002</td>\n",
       "      <td>96</td>\n",
       "      <td>22280002</td>\n",
       "      <td>96</td>\n",
       "    </tr>\n",
       "  </tbody>\n",
       "</table>\n",
       "</div>"
      ],
      "text/plain": [
       "         id  availability_365  listing_id  availability_sum\n",
       "0   9630344               364     9630344               364\n",
       "1   3533741                 0     3533741                 0\n",
       "2   9731039                 0     9731039                 0\n",
       "3  21736164                 0    21736164                 0\n",
       "4  22280002                96    22280002                96"
      ]
     },
     "execution_count": 16,
     "metadata": {},
     "output_type": "execute_result"
    }
   ],
   "source": [
    "short_df = merged_df[['id', 'availability_365', 'listing_id', 'availability_sum']]\n",
    "short_df.head()"
   ]
  },
  {
   "cell_type": "code",
   "execution_count": 17,
   "metadata": {},
   "outputs": [
    {
     "name": "stdout",
     "output_type": "stream",
     "text": [
      "Are the \"availability_365\" and \"availability_sum\" columns the same for all rows? False\n"
     ]
    }
   ],
   "source": [
    "# Check if both columns are the same for all rows\n",
    "columns_are_same = (merged_df['availability_365'] == merged_df['availability_sum']).all()\n",
    "\n",
    "print(f'Are the \"availability_365\" and \"availability_sum\" columns the same for all rows? {columns_are_same}')"
   ]
  },
  {
   "cell_type": "code",
   "execution_count": 18,
   "metadata": {},
   "outputs": [
    {
     "name": "stdout",
     "output_type": "stream",
     "text": [
      "Unique values of \"availability_sum\" for non-equal rows are: [163 128  10 235  79 146 289 275 299 246 316 255 323 274 139 352 254 362\n",
      " 108 248 338 365 227  88 326  59  47  42 124  37  68 298 366 233  43 153\n",
      "  86 341 339 355 131 292 327  62 262 162 357 213 134 220   7 194 330  72\n",
      " 270 286 318 148  71 273 174 344 251 111  91 336  40 144 321 155  65 143\n",
      " 334 302 232 322  18 281 353 118 149  52 317  57 346 265  27 296 294 225\n",
      " 360 176 245  87 142  89 335 354 157 198 241]\n"
     ]
    }
   ],
   "source": [
    "# Filter the rows where 'availability_365' and 'availability_sum' are not equal\n",
    "different_rows = merged_df[merged_df['availability_365'] != merged_df['availability_sum']]\n",
    "\n",
    "# Get unique values from the 'availability_sum' column in these rows\n",
    "unique_availability_sum = different_rows['availability_sum'].unique()\n",
    "\n",
    "print(f'Unique values of \"availability_sum\" for non-equal rows are: {unique_availability_sum}')"
   ]
  },
  {
   "cell_type": "code",
   "execution_count": 19,
   "metadata": {},
   "outputs": [
    {
     "name": "stdout",
     "output_type": "stream",
     "text": [
      "Does the \"availability_sum\" column have NaN values? False\n"
     ]
    }
   ],
   "source": [
    "# Check if there are any NaN values in the 'availability_sum' column\n",
    "has_nans = merged_df['availability_sum'].isna().any()\n",
    "\n",
    "print(f'Does the \"availability_sum\" column have NaN values? {has_nans}')"
   ]
  },
  {
   "cell_type": "code",
   "execution_count": 20,
   "metadata": {},
   "outputs": [
    {
     "data": {
      "text/plain": [
       "38787"
      ]
     },
     "execution_count": 20,
     "metadata": {},
     "output_type": "execute_result"
    }
   ],
   "source": [
    "short_df['id'].nunique()"
   ]
  },
  {
   "cell_type": "code",
   "execution_count": 21,
   "metadata": {},
   "outputs": [
    {
     "name": "stdout",
     "output_type": "stream",
     "text": [
      "Number of unique listing_ids where availabilities are not equal: 127\n",
      "Listing ID 22588755 - Difference: 163\n",
      "Listing ID 862529439916218400 - Difference: 128\n",
      "Listing ID 51262232 - Difference: 10\n",
      "Listing ID 949476979798816167 - Difference: 235\n",
      "Listing ID 870808328899205925 - Difference: 79\n",
      "Listing ID 736489736032125540 - Difference: 146\n",
      "Listing ID 13808 - Difference: 289\n",
      "Listing ID 549362079534421010 - Difference: 275\n",
      "Listing ID 752124066836971423 - Difference: 299\n",
      "Listing ID 951759957468338794 - Difference: 246\n",
      "Listing ID 52934351 - Difference: 316\n",
      "Listing ID 970049716780027750 - Difference: 255\n",
      "Listing ID 45816695 - Difference: 323\n",
      "Listing ID 44801335 - Difference: 274\n",
      "Listing ID 32616393 - Difference: 139\n",
      "Listing ID 42203409 - Difference: 352\n",
      "Listing ID 53132475 - Difference: 254\n",
      "Listing ID 51907134 - Difference: 362\n",
      "Listing ID 42982980 - Difference: 108\n",
      "Listing ID 34278935 - Difference: 248\n",
      "Listing ID 877602226028132663 - Difference: 338\n",
      "Listing ID 578923571089407152 - Difference: 365\n",
      "Listing ID 19767924 - Difference: 227\n",
      "Listing ID 694912775374181321 - Difference: 88\n",
      "Listing ID 587207524120016838 - Difference: 326\n",
      "Listing ID 912290771994813803 - Difference: 59\n",
      "Listing ID 27211525 - Difference: 47\n",
      "Listing ID 907181069237143504 - Difference: 42\n",
      "Listing ID 1361017 - Difference: 123\n",
      "Listing ID 856575738163893614 - Difference: 37\n",
      "Listing ID 821812150063956321 - Difference: 68\n",
      "Listing ID 744362529094004795 - Difference: 298\n",
      "Listing ID 311316 - Difference: 366\n",
      "Listing ID 828379893246126050 - Difference: 233\n",
      "Listing ID 29800110 - Difference: 43\n",
      "Listing ID 27291497 - Difference: 153\n",
      "Listing ID 729090958649369880 - Difference: 86\n",
      "Listing ID 645056913089000891 - Difference: 341\n",
      "Listing ID 51696057 - Difference: 365\n",
      "Listing ID 623922493793823954 - Difference: 339\n",
      "Listing ID 858697692672545141 - Difference: 355\n",
      "Listing ID 8399234 - Difference: 131\n",
      "Listing ID 540057 - Difference: 292\n",
      "Listing ID 35774669 - Difference: 327\n",
      "Listing ID 16914748 - Difference: 62\n",
      "Listing ID 5353612 - Difference: 262\n",
      "Listing ID 18124558 - Difference: 162\n",
      "Listing ID 874704133332727362 - Difference: 357\n",
      "Listing ID 964003168293266398 - Difference: 213\n",
      "Listing ID 638411614489556367 - Difference: 134\n",
      "Listing ID 20016090 - Difference: 220\n",
      "Listing ID 907529093729450520 - Difference: 7\n",
      "Listing ID 12567868 - Difference: 194\n",
      "Listing ID 812942450524640668 - Difference: 330\n",
      "Listing ID 51714701 - Difference: 72\n",
      "Listing ID 325429 - Difference: 270\n",
      "Listing ID 842634008100550999 - Difference: 286\n",
      "Listing ID 6662967 - Difference: 318\n",
      "Listing ID 753790127067166691 - Difference: 316\n",
      "Listing ID 663185874925783688 - Difference: 326\n",
      "Listing ID 755854437155644260 - Difference: 275\n",
      "Listing ID 902939115237127744 - Difference: 148\n",
      "Listing ID 907088727200673307 - Difference: 71\n",
      "Listing ID 27262079 - Difference: 37\n",
      "Listing ID 4397455 - Difference: 273\n",
      "Listing ID 942036670981097219 - Difference: 174\n",
      "Listing ID 18993398 - Difference: 344\n",
      "Listing ID 924000054492555055 - Difference: 365\n",
      "Listing ID 13825154 - Difference: 352\n",
      "Listing ID 23597076 - Difference: 365\n",
      "Listing ID 830384060186618095 - Difference: 341\n",
      "Listing ID 969450944687841104 - Difference: 251\n",
      "Listing ID 35808578 - Difference: 111\n",
      "Listing ID 745054539121993472 - Difference: 91\n",
      "Listing ID 904221004063215858 - Difference: 336\n",
      "Listing ID 705960660317173546 - Difference: 326\n",
      "Listing ID 48886891 - Difference: 40\n",
      "Listing ID 14616377 - Difference: 144\n",
      "Listing ID 652943524305648321 - Difference: 321\n",
      "Listing ID 730397424509623614 - Difference: 155\n",
      "Listing ID 941597372112246343 - Difference: 65\n",
      "Listing ID 53894411 - Difference: 357\n",
      "Listing ID 699394982076419708 - Difference: 163\n",
      "Listing ID 582137289665171294 - Difference: 143\n",
      "Listing ID 38377227 - Difference: 362\n",
      "Listing ID 886461660908406477 - Difference: 334\n",
      "Listing ID 40160578 - Difference: 302\n",
      "Listing ID 38798075 - Difference: 232\n",
      "Listing ID 34207925 - Difference: 322\n",
      "Listing ID 831071199689672078 - Difference: 18\n",
      "Listing ID 35012500 - Difference: 281\n",
      "Listing ID 23020466 - Difference: 274\n",
      "Listing ID 3543839 - Difference: 353\n",
      "Listing ID 890116632523721018 - Difference: 118\n",
      "Listing ID 53242219 - Difference: 149\n",
      "Listing ID 974559250469050993 - Difference: 52\n",
      "Listing ID 51335945 - Difference: 317\n",
      "Listing ID 15141938 - Difference: 57\n",
      "Listing ID 892682416283989783 - Difference: 346\n",
      "Listing ID 751279777674158700 - Difference: 316\n",
      "Listing ID 54357934 - Difference: 42\n",
      "Listing ID 1776732 - Difference: 264\n",
      "Listing ID 24432539 - Difference: 353\n",
      "Listing ID 715102 - Difference: 27\n",
      "Listing ID 581858374016685042 - Difference: 296\n",
      "Listing ID 903532779992444851 - Difference: 294\n",
      "Listing ID 925671449931187449 - Difference: 225\n",
      "Listing ID 881313726862564383 - Difference: 139\n",
      "Listing ID 844282409937859863 - Difference: 360\n",
      "Listing ID 39380947 - Difference: 176\n",
      "Listing ID 808674418658621870 - Difference: 326\n",
      "Listing ID 8522933 - Difference: 322\n",
      "Listing ID 45866168 - Difference: 355\n",
      "Listing ID 5979675 - Difference: 317\n",
      "Listing ID 39149013 - Difference: 245\n",
      "Listing ID 18226108 - Difference: 87\n",
      "Listing ID 11437634 - Difference: 302\n",
      "Listing ID 982900189767439245 - Difference: 142\n",
      "Listing ID 648857359350164301 - Difference: 89\n",
      "Listing ID 869611205356082975 - Difference: 335\n",
      "Listing ID 5050156 - Difference: 354\n",
      "Listing ID 48939444 - Difference: 143\n",
      "Listing ID 26002246 - Difference: 157\n",
      "Listing ID 828456195659611818 - Difference: 346\n",
      "Listing ID 744770529833440564 - Difference: 68\n",
      "Listing ID 591199461871265735 - Difference: 198\n",
      "Listing ID 928513545611321046 - Difference: 241\n"
     ]
    }
   ],
   "source": [
    "# Filter the DataFrame for rows where 'availability_365' and 'availability_sum' are not equal\n",
    "non_equal_df = merged_df[merged_df['availability_365'] != merged_df['availability_sum']]\n",
    "\n",
    "# Get unique listing_ids from the filtered DataFrame\n",
    "unique_listing_ids = non_equal_df['listing_id'].unique()\n",
    "print(f'Number of unique listing_ids where availabilities are not equal: {len(unique_listing_ids)}')\n",
    "\n",
    "# For each unique listing_id, calculate and print the difference between 'availability_365' and 'availability_sum'\n",
    "for listing_id in unique_listing_ids:\n",
    "    listing_rows = non_equal_df[non_equal_df['listing_id'] == listing_id]\n",
    "    for index, row in listing_rows.iterrows():\n",
    "        difference = abs(row['availability_365'] - row['availability_sum'])\n",
    "        print(f'Listing ID {listing_id} - Difference: {difference}')"
   ]
  },
  {
   "cell_type": "code",
   "execution_count": 22,
   "metadata": {},
   "outputs": [
    {
     "data": {
      "text/html": [
       "<div>\n",
       "<style scoped>\n",
       "    .dataframe tbody tr th:only-of-type {\n",
       "        vertical-align: middle;\n",
       "    }\n",
       "\n",
       "    .dataframe tbody tr th {\n",
       "        vertical-align: top;\n",
       "    }\n",
       "\n",
       "    .dataframe thead th {\n",
       "        text-align: right;\n",
       "    }\n",
       "</style>\n",
       "<table border=\"1\" class=\"dataframe\">\n",
       "  <thead>\n",
       "    <tr style=\"text-align: right;\">\n",
       "      <th></th>\n",
       "      <th>id</th>\n",
       "      <th>availability_365</th>\n",
       "      <th>listing_id</th>\n",
       "      <th>availability_sum</th>\n",
       "    </tr>\n",
       "  </thead>\n",
       "  <tbody>\n",
       "    <tr>\n",
       "      <th>9215</th>\n",
       "      <td>877602226028132663</td>\n",
       "      <td>0</td>\n",
       "      <td>877602226028132663</td>\n",
       "      <td>338</td>\n",
       "    </tr>\n",
       "  </tbody>\n",
       "</table>\n",
       "</div>"
      ],
      "text/plain": [
       "                      id  availability_365          listing_id  \\\n",
       "9215  877602226028132663                 0  877602226028132663   \n",
       "\n",
       "      availability_sum  \n",
       "9215               338  "
      ]
     },
     "execution_count": 22,
     "metadata": {},
     "output_type": "execute_result"
    }
   ],
   "source": [
    "short_df.loc[short_df['id'] == 877602226028132663]"
   ]
  }
 ],
 "metadata": {
  "kernelspec": {
   "display_name": "venv",
   "language": "python",
   "name": "python3"
  },
  "language_info": {
   "codemirror_mode": {
    "name": "ipython",
    "version": 3
   },
   "file_extension": ".py",
   "mimetype": "text/x-python",
   "name": "python",
   "nbconvert_exporter": "python",
   "pygments_lexer": "ipython3",
   "version": "3.11.6"
  }
 },
 "nbformat": 4,
 "nbformat_minor": 2
}
