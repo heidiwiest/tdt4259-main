{
 "cells": [
  {
   "cell_type": "markdown",
   "metadata": {},
   "source": [
    "### Want to uncover the reasons for the NaN values in reviews, or at the very least determine if NaN values are consistent accross the different review columns. If they are, the NaN values from reviews are likely caused by a lack of reviews"
   ]
  },
  {
   "cell_type": "code",
   "execution_count": 1,
   "metadata": {},
   "outputs": [],
   "source": [
    "import pandas as pd\n",
    "import gzip\n",
    "import matplotlib.pyplot as plt\n",
    "import seaborn as sns\n",
    "from tabulate import tabulate"
   ]
  },
  {
   "cell_type": "code",
   "execution_count": 23,
   "metadata": {},
   "outputs": [],
   "source": [
    "names = ['calendar', 'listings', 'reviews']\n",
    "dataframes = {}\n",
    "\n",
    "for name in names:\n",
    "    # Define the file path\n",
    "    file_path = 'data/' + name + '.csv.gz'\n",
    "    # Use gzip.open to decompress the file and then read it with Pandas\n",
    "    with gzip.open(file_path, 'rt', encoding='utf-8') as file:\n",
    "        data = pd.read_csv(file)\n",
    "\n",
    "    dataframes[name] = data"
   ]
  },
  {
   "cell_type": "code",
   "execution_count": 24,
   "metadata": {},
   "outputs": [],
   "source": [
    "listings = pd.read_csv(\"listings_revised.csv\")\n",
    "reviews = dataframes['reviews']"
   ]
  },
  {
   "cell_type": "markdown",
   "metadata": {},
   "source": [
    "#### The fact that the NaN percentage for first_review and last_review are the same, in addition to reviews_per_month, is almost guaranteed to mean that they have NaN values in the same rows. It also implies that the distribution of NaN values is not completely random.\n",
    "\n",
    "#### Also interesting to note is that the NaN percentage differs for the different review scores"
   ]
  },
  {
   "cell_type": "code",
   "execution_count": 4,
   "metadata": {},
   "outputs": [
    {
     "name": "stdout",
     "output_type": "stream",
     "text": [
      "+----+-----------------------------+----------------+\n",
      "|    |           Column            | NaN Percentage |\n",
      "+----+-----------------------------+----------------+\n",
      "| 0  |      number_of_reviews      |      0.0       |\n",
      "| 1  |    number_of_reviews_ltm    |      0.0       |\n",
      "| 2  |   number_of_reviews_l30d    |      0.0       |\n",
      "| 3  |        first_review         |     26.69      |\n",
      "| 4  |         last_review         |     26.69      |\n",
      "| 5  |    review_scores_rating     |     26.67      |\n",
      "| 6  |   review_scores_accuracy    |     27.74      |\n",
      "| 7  |  review_scores_cleanliness  |     27.72      |\n",
      "| 8  |    review_scores_checkin    |     27.75      |\n",
      "| 9  | review_scores_communication |     27.73      |\n",
      "| 10 |   review_scores_location    |     27.76      |\n",
      "| 11 |     review_scores_value     |     27.76      |\n",
      "| 12 |      reviews_per_month      |     26.69      |\n",
      "+----+-----------------------------+----------------+\n"
     ]
    }
   ],
   "source": [
    "# Calculate the percentage of NaN values in each column\n",
    "listings_reviews = listings[[\"number_of_reviews\",\"number_of_reviews_ltm\",\"number_of_reviews_l30d\",\n",
    "    \"first_review\",\"last_review\",\"review_scores_rating\",\"review_scores_accuracy\",\"review_scores_cleanliness\"\n",
    "    ,\"review_scores_checkin\",\"review_scores_communication\",\"review_scores_location\",\n",
    "    \"review_scores_value\",\"reviews_per_month\"]]\n",
    "\n",
    "nan_percentage = (listings_reviews.isna().mean() * 100).round(2)\n",
    "\n",
    "# Convert the nan_percentage Series to a DataFrame for formatting\n",
    "nan_percentage_df = nan_percentage.reset_index()\n",
    "nan_percentage_df.columns = ['Column', 'NaN Percentage']\n",
    "\n",
    "# Print the nan_percentage as a nicely formatted table\n",
    "print(tabulate(nan_percentage_df, headers='keys', tablefmt='pretty'))"
   ]
  },
  {
   "cell_type": "markdown",
   "metadata": {},
   "source": [
    "#### Each first_review or last_review NaN apperance is always accompanied by \"0\" for number_of_reviews in total. Which means that the NaN values are likely explained by a lack of reviews."
   ]
  },
  {
   "cell_type": "code",
   "execution_count": 12,
   "metadata": {},
   "outputs": [
    {
     "name": "stdout",
     "output_type": "stream",
     "text": [
      "Values of number_of_reviews for which first_review is NaN: [0]\n"
     ]
    }
   ],
   "source": [
    "unique_values = listings_reviews.loc[listings_reviews['first_review'].isna() \n",
    "& listings_reviews[\"last_review\"].isna(), 'number_of_reviews'].unique()\n",
    "\n",
    "print(\"Values of number_of_reviews for which first_review is NaN: \" + str(unique_values)) "
   ]
  },
  {
   "cell_type": "markdown",
   "metadata": {},
   "source": [
    "Now checking the relationship between various review scores and number_of_reviews. It seems likely that tenants are allowed to give an overall rating (review_scores_rating), yet are not required to give scores on the details of the stay (cleanliness, communication etc...). \n",
    "\n",
    "The most logical conclusion is that the NaN values for review_scores_rating is due to a lack of reviews, and additional NaN values in other columns is due the tenant being \"lazy\" by not giving a more detailed review. "
   ]
  },
  {
   "cell_type": "code",
   "execution_count": 22,
   "metadata": {},
   "outputs": [
    {
     "name": "stdout",
     "output_type": "stream",
     "text": [
      "Values of number_of_reviews for which review_scores_rating is NaN: [0]\n",
      "Values of number_of_reviews for which review_scores_accuracy is NaN: [0 1 3 2 4 5 7]\n",
      "Values of number_of_reviews for which review_scores_cleanliness is NaN: [0 1 3 2 4 5 7]\n",
      "Values of number_of_reviews for which review_scores_checkin is NaN: [0 1 3 2 4 5 7]\n",
      "Values of number_of_reviews for which review_scores_communication is NaN: [0 1 3 2 4 5 7]\n",
      "Values of number_of_reviews for which review_scores_location is NaN: [0 1 3 2 4 5 7]\n",
      "Values of number_of_reviews for which review_scores_value is NaN: [0 1 3 2 4 5 7]\n"
     ]
    }
   ],
   "source": [
    "unique_values = listings_reviews.loc[listings_reviews['review_scores_rating'].isna(),\n",
    "            'number_of_reviews'].unique()\n",
    "print(\"Values of number_of_reviews for which review_scores_rating is NaN: \" + str(unique_values)) \n",
    "\n",
    "\n",
    "unique_values = listings_reviews.loc[listings_reviews['review_scores_accuracy'].isna(),\n",
    "            'number_of_reviews'].unique()\n",
    "print(\"Values of number_of_reviews for which review_scores_accuracy is NaN: \" + str(unique_values))\n",
    "\n",
    "\n",
    "unique_values = listings_reviews.loc[listings_reviews['review_scores_cleanliness'].isna(),\n",
    "            'number_of_reviews'].unique()\n",
    "print(\"Values of number_of_reviews for which review_scores_cleanliness is NaN: \" + str(unique_values)) \n",
    "\n",
    "\n",
    "unique_values = listings_reviews.loc[listings_reviews['review_scores_checkin'].isna(),\n",
    "            'number_of_reviews'].unique()\n",
    "print(\"Values of number_of_reviews for which review_scores_checkin is NaN: \" + str(unique_values)) \n",
    "\n",
    "\n",
    "unique_values = listings_reviews.loc[listings_reviews['review_scores_communication'].isna(),\n",
    "            'number_of_reviews'].unique()\n",
    "print(\"Values of number_of_reviews for which review_scores_communication is NaN: \" + str(unique_values)) \n",
    "\n",
    "\n",
    "unique_values = listings_reviews.loc[listings_reviews['review_scores_location'].isna(),\n",
    "            'number_of_reviews'].unique()\n",
    "print(\"Values of number_of_reviews for which review_scores_location is NaN: \" + str(unique_values)) \n",
    "\n",
    "\n",
    "unique_values = listings_reviews.loc[listings_reviews['review_scores_value'].isna(),\n",
    "            'number_of_reviews'].unique()\n",
    "print(\"Values of number_of_reviews for which review_scores_value is NaN: \" + str(unique_values)) "
   ]
  },
  {
   "cell_type": "markdown",
   "metadata": {},
   "source": [
    "#### Now to see if the correlations between review features are very high, in which case it may be prudent to eliminate some of them to improve the performance of the prediction model."
   ]
  },
  {
   "cell_type": "code",
   "execution_count": null,
   "metadata": {},
   "outputs": [],
   "source": []
  }
 ],
 "metadata": {
  "kernelspec": {
   "display_name": "venv",
   "language": "python",
   "name": "python3"
  },
  "language_info": {
   "codemirror_mode": {
    "name": "ipython",
    "version": 3
   },
   "file_extension": ".py",
   "mimetype": "text/x-python",
   "name": "python",
   "nbconvert_exporter": "python",
   "pygments_lexer": "ipython3",
   "version": "3.11.6"
  },
  "orig_nbformat": 4
 },
 "nbformat": 4,
 "nbformat_minor": 2
}
